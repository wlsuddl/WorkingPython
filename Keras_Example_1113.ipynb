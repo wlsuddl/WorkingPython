{
 "cells": [
  {
   "cell_type": "code",
   "execution_count": 1,
   "metadata": {},
   "outputs": [
    {
     "name": "stdout",
     "output_type": "stream",
     "text": [
      "Extracting MNIST_data/train-images-idx3-ubyte.gz\n",
      "Extracting MNIST_data/train-labels-idx1-ubyte.gz\n",
      "Extracting MNIST_data/t10k-images-idx3-ubyte.gz\n",
      "Extracting MNIST_data/t10k-labels-idx1-ubyte.gz\n"
     ]
    }
   ],
   "source": [
    "import matplotlib.pyplot as plt\n",
    "import numpy as np\n",
    "import tensorflow as tf\n",
    "\n",
    "from __future__ import division\n",
    "from __future__ import print_function\n",
    "from __future__ import absolute_import\n",
    "\n",
    "from sklearn.utils import shuffle\n",
    "\n",
    "from tensorflow.examples.tutorials.mnist import input_data\n",
    "\n",
    "mnist = input_data.read_data_sets(\"MNIST_data/\", one_hot=True)"
   ]
  },
  {
   "cell_type": "code",
   "execution_count": 4,
   "metadata": {},
   "outputs": [],
   "source": [
    "train_xdata = np.array([np.reshape(x, (28,28,1)) for x in mnist.train.images])        #image files(channel = 1)\n",
    "test_xdata = np.array([np.reshape(x, (28,28,1)) for x in mnist.test.images])\n",
    "train_labels = mnist.train.labels\n",
    "test_labels = mnist.test.labels"
   ]
  },
  {
   "cell_type": "code",
   "execution_count": 3,
   "metadata": {},
   "outputs": [],
   "source": [
    "#128걸음씩 12바퀴 돌린다는 의미.\n",
    "\n",
    "batch_size = 128\n",
    "num_classes = 10            #one-hot code 10개\n",
    "epochs = 12 \n",
    "\n",
    "img_rows, img_cols = (28,28)"
   ]
  },
  {
   "cell_type": "code",
   "execution_count": 8,
   "metadata": {},
   "outputs": [
    {
     "data": {
      "text/plain": [
       "<matplotlib.image.AxesImage at 0xc2f21c2e8>"
      ]
     },
     "execution_count": 8,
     "metadata": {},
     "output_type": "execute_result"
    },
    {
     "data": {
      "image/png": "[encoded data removed]",
      "text/plain": [
       "<Figure size 432x288 with 1 Axes>"
      ]
     },
     "metadata": {
      "needs_background": "light"
     },
     "output_type": "display_data"
    }
   ],
   "source": [
    "plt.imshow(train_xdata[1, :, :, 0], cmap='Greys')"
   ]
  },
  {
   "cell_type": "code",
   "execution_count": 12,
   "metadata": {},
   "outputs": [
    {
     "name": "stdout",
     "output_type": "stream",
     "text": [
      "(55000, 28, 28, 1)\n",
      "(10000, 28, 28, 1)\n",
      "(55000, 10)\n",
      "(10000, 10)\n"
     ]
    }
   ],
   "source": [
    "print(train_xdata.shape)\n",
    "print(test_xdata.shape)\n",
    "print(train_labels.shape)\n",
    "print(test_labels.shape)"
   ]
  },
  {
   "cell_type": "code",
   "execution_count": 27,
   "metadata": {},
   "outputs": [],
   "source": [
    "from keras.datasets import mnist\n",
    "from keras.models import Sequential\n",
    "from keras.layers import Dense, Dropout, Flatten\n",
    "from keras.layers import Conv2D, MaxPooling2D\n",
    "import keras\n",
    "\n",
    "model = Sequential()\n",
    "model.add( Conv2D(32, kernel_size = (4,4), activation = 'relu', input_shape = (28,28,1) ))\n",
    "       # 32 = filter number 1 (FN1), # bias(Conv2D 에서 더해준다.)\n",
    "model.add(MaxPooling2D(pool_size = (2,2)))\n",
    "\n",
    "model.add(Conv2D(64, kernel_size = (4,4), activation = 'relu', input_shape = (14, 14, 32) ))\n",
    "     # filter 개수(FN1)가 채널의 개수가 된다. \n",
    "model.add(MaxPooling2D(pool_size = (2,2)))\n",
    "\n",
    "##### Affine(완전 연결 계층) layer #####\n",
    "#affine layer만들기 위해 1차원으로 평활(flatten)\n",
    "\n",
    "model.add(Flatten())     # 맨 마지막 모델을 flatten해준다.\n",
    "\n",
    "#Dense layer(Affine(완전 연결 계층) layer 1)\n",
    "model.add(Dense(128, activation = 'relu'))       # input은 쓰지 않아도 됨. output만 써준다. 128 = FCS1(final_conv_size_1)\n",
    "# Affine layer 2\n",
    "model.add(Dense(num_classes, activation = 'softmax'))\n",
    "\n"
   ]
  },
  {
   "cell_type": "code",
   "execution_count": 29,
   "metadata": {},
   "outputs": [],
   "source": [
    "model.compile(loss=keras.losses.categorical_crossentropy, optimizer=keras.optimizers.Adadelta(), \n",
    "              metrics=['accuracy'])"
   ]
  },
  {
   "cell_type": "code",
   "execution_count": 30,
   "metadata": {},
   "outputs": [
    {
     "name": "stdout",
     "output_type": "stream",
     "text": [
      "Epoch 1/2\n",
      "55000/55000 [==============================] - 40s 728us/step - loss: 0.2382 - acc: 0.9253\n",
      "Epoch 2/2\n",
      "55000/55000 [==============================] - 40s 733us/step - loss: 0.0570 - acc: 0.9821\n"
     ]
    },
    {
     "data": {
      "text/plain": [
       "<keras.callbacks.History at 0xc297c8da0>"
      ]
     },
     "execution_count": 30,
     "metadata": {},
     "output_type": "execute_result"
    }
   ],
   "source": [
    "model.fit(train_xdata, train_labels, batch_size=batch_size, verbose=1, epochs=2)         \n",
    "           # batch size =128, verbose=1이면 과정을 출력."
   ]
  },
  {
   "cell_type": "code",
   "execution_count": 31,
   "metadata": {},
   "outputs": [],
   "source": [
    "## dropout"
   ]
  },
  {
   "cell_type": "code",
   "execution_count": 32,
   "metadata": {},
   "outputs": [],
   "source": [
    "model = Sequential()\n",
    "model.add( Conv2D(32, kernel_size = (4,4), activation = 'relu', input_shape = (28,28,1) ))\n",
    "       # 32 = filter number 1 (FN1), # bias(Conv2D 에서 더해준다.)\n",
    "model.add(MaxPooling2D(pool_size = (2,2)))\n",
    "\n",
    "model.add(Conv2D(64, kernel_size = (4,4), activation = 'relu', input_shape = (14, 14, 32) ))\n",
    "     # filter 개수(FN1)가 채널의 개수가 된다. \n",
    "model.add(MaxPooling2D(pool_size = (2,2)))\n",
    "\n",
    "##### Affine(완전 연결 계층) layer #####\n",
    "#affine layer만들기 위해 1차원으로 평활(flatten)\n",
    "\n",
    "model.add(Flatten())     # 맨 마지막 모델을 flatten해준다.\n",
    "\n",
    "#Dense layer(Affine(완전 연결 계층) layer 1)\n",
    "model.add(Dropout(0.25))     #dropout\n",
    "model.add(Dense(128, activation = 'relu'))       # input은 쓰지 않아도 됨. output만 써준다. 128 = FCS1(final_conv_size_1)\n",
    "\n",
    "# Affine layer 2\n",
    "model.add(Dropout(0.5))      #dropout\n",
    "model.add(Dense(num_classes, activation = 'softmax'))"
   ]
  },
  {
   "cell_type": "code",
   "execution_count": 33,
   "metadata": {},
   "outputs": [
    {
     "name": "stdout",
     "output_type": "stream",
     "text": [
      "Epoch 1/2\n",
      "55000/55000 [==============================] - 44s 795us/step - loss: 0.3204 - acc: 0.8981\n",
      "Epoch 2/2\n",
      "55000/55000 [==============================] - 43s 790us/step - loss: 0.1003 - acc: 0.9692\n"
     ]
    },
    {
     "data": {
      "text/plain": [
       "<keras.callbacks.History at 0xc29b5b048>"
      ]
     },
     "execution_count": 33,
     "metadata": {},
     "output_type": "execute_result"
    }
   ],
   "source": [
    "model.compile(loss=keras.losses.categorical_crossentropy, optimizer=keras.optimizers.Adadelta(), \n",
    "              metrics=['accuracy'])\n",
    "model.fit(train_xdata, train_labels, batch_size=batch_size, verbose=1, epochs=2)  "
   ]
  },
  {
   "cell_type": "code",
   "execution_count": 34,
   "metadata": {},
   "outputs": [
    {
     "data": {
      "text/plain": [
       "[0.04236436659682077, 0.9866]"
      ]
     },
     "execution_count": 34,
     "metadata": {},
     "output_type": "execute_result"
    }
   ],
   "source": [
    "model.evaluate(test_xdata, test_labels, verbose=0)"
   ]
  },
  {
   "cell_type": "code",
   "execution_count": 35,
   "metadata": {},
   "outputs": [
    {
     "name": "stdout",
     "output_type": "stream",
     "text": [
      "Epoch 1/2\n",
      "55000/55000 [==============================] - 42s 772us/step - loss: 0.2308 - acc: 0.9272\n",
      "Epoch 2/2\n",
      "55000/55000 [==============================] - 41s 742us/step - loss: 0.0581 - acc: 0.9821\n"
     ]
    },
    {
     "data": {
      "text/plain": [
       "<keras.callbacks.History at 0xc27056908>"
      ]
     },
     "execution_count": 35,
     "metadata": {},
     "output_type": "execute_result"
    }
   ],
   "source": [
    "# 다시 dropout없이\n",
    "model = Sequential()\n",
    "model.add( Conv2D(32, kernel_size = (4,4), activation = 'relu', input_shape = (28,28,1) ))\n",
    "       # 32 = filter number 1 (FN1), # bias(Conv2D 에서 더해준다.)\n",
    "model.add(MaxPooling2D(pool_size = (2,2)))\n",
    "\n",
    "model.add(Conv2D(64, kernel_size = (4,4), activation = 'relu', input_shape = (14, 14, 32) ))\n",
    "     # filter 개수(FN1)가 채널의 개수가 된다. \n",
    "model.add(MaxPooling2D(pool_size = (2,2)))\n",
    "\n",
    "##### Affine(완전 연결 계층) layer #####\n",
    "#affine layer만들기 위해 1차원으로 평활(flatten)\n",
    "\n",
    "model.add(Flatten())     # 맨 마지막 모델을 flatten해준다.\n",
    "\n",
    "#Dense layer(Affine(완전 연결 계층) layer 1)\n",
    "model.add(Dense(128, activation = 'relu'))       # input은 쓰지 않아도 됨. output만 써준다. 128 = FCS1(final_conv_size_1)\n",
    "# Affine layer 2\n",
    "model.add(Dense(num_classes, activation = 'softmax'))\n",
    "\n",
    "model.compile(loss=keras.losses.categorical_crossentropy, optimizer=keras.optimizers.Adadelta(), \n",
    "              metrics=['accuracy'])\n",
    "model.fit(train_xdata, train_labels, batch_size=batch_size, verbose=1, epochs=2)  "
   ]
  },
  {
   "cell_type": "code",
   "execution_count": 36,
   "metadata": {},
   "outputs": [
    {
     "data": {
      "text/plain": [
       "[0.03676890652682632, 0.9878]"
      ]
     },
     "execution_count": 36,
     "metadata": {},
     "output_type": "execute_result"
    }
   ],
   "source": [
    "model.evaluate(test_xdata, test_labels, verbose=0)      #dropout 안한 것이 더 좋다."
   ]
  },
  {
   "cell_type": "code",
   "execution_count": 37,
   "metadata": {},
   "outputs": [],
   "source": [
    "## 어떤 게 맞고 어떤 게 틀렸는지 그림 그리기"
   ]
  },
  {
   "cell_type": "code",
   "execution_count": null,
   "metadata": {},
   "outputs": [],
   "source": [
    "a = model.predict(test_xdata)\n",
    "Nrow=3\n",
    "Ncol=4     #한번에 12개 그림 그린다.\n",
    "for i in range(12):\n",
    "    plt.subplot(Nrow, Ncol, i+1)\n",
    "    plt.imshow(test_xdata[i,:,:,0])\n",
    "    \n",
    "pred_my = np.argmax(a[0:100, ], axis=1)     \n",
    "actual_my = np.argmax(test_labels[0:100, ], axis=1)\n",
    "\n",
    "b = -np.equal(pred_my, actual_my)"
   ]
  },
  {
   "cell_type": "code",
   "execution_count": 45,
   "metadata": {},
   "outputs": [
    {
     "data": {
      "text/plain": [
       "False"
      ]
     },
     "execution_count": 45,
     "metadata": {},
     "output_type": "execute_result"
    }
   ],
   "source": [
    "b[18]"
   ]
  },
  {
   "cell_type": "code",
   "execution_count": 46,
   "metadata": {},
   "outputs": [
    {
     "data": {
      "text/plain": [
       "8"
      ]
     },
     "execution_count": 46,
     "metadata": {},
     "output_type": "execute_result"
    }
   ],
   "source": [
    "pred_my[18]"
   ]
  },
  {
   "cell_type": "code",
   "execution_count": 47,
   "metadata": {},
   "outputs": [
    {
     "data": {
      "text/plain": [
       "<matplotlib.image.AxesImage at 0xc2791e898>"
      ]
     },
     "execution_count": 47,
     "metadata": {},
     "output_type": "execute_result"
    },
    {
     "data": {
      "image/png": "[encoded data removed]",
      "text/plain": [
       "<Figure size 432x288 with 1 Axes>"
      ]
     },
     "metadata": {
      "needs_background": "light"
     },
     "output_type": "display_data"
    }
   ],
   "source": [
    "plt.imshow(test_xdata[18,:,:,0])"
   ]
  },
  {
   "cell_type": "code",
   "execution_count": 50,
   "metadata": {},
   "outputs": [
    {
     "data": {
      "text/plain": [
       "(array([18]),)"
      ]
     },
     "execution_count": 50,
     "metadata": {},
     "output_type": "execute_result"
    }
   ],
   "source": [
    "np.where(b==False)"
   ]
  },
  {
   "cell_type": "code",
   "execution_count": 52,
   "metadata": {},
   "outputs": [],
   "source": [
    "c = np.array(b)"
   ]
  },
  {
   "cell_type": "code",
   "execution_count": null,
   "metadata": {},
   "outputs": [],
   "source": [
    "d = c[b]"
   ]
  },
  {
   "cell_type": "code",
   "execution_count": 55,
   "metadata": {},
   "outputs": [
    {
     "name": "stdout",
     "output_type": "stream",
     "text": [
      "Epoch 1/2\n",
      "55000/55000 [==============================] - 45s 818us/step - loss: 0.2257 - acc: 0.93041s - loss: 0.231\n",
      "Epoch 2/2\n",
      "55000/55000 [==============================] - 43s 787us/step - loss: 0.0553 - acc: 0.9823\n"
     ]
    },
    {
     "data": {
      "text/plain": [
       "<keras.callbacks.History at 0xc28301198>"
      ]
     },
     "execution_count": 55,
     "metadata": {},
     "output_type": "execute_result"
    }
   ],
   "source": [
    "model = Sequential()\n",
    "model.add( Conv2D(32, kernel_size = (5,5), activation = 'relu', input_shape = (28,28,1) ))\n",
    "       # 32 = filter number 1 (FN1), # bias(Conv2D 에서 더해준다.)\n",
    "model.add(MaxPooling2D(pool_size = (2,2)))\n",
    "\n",
    "model.add(Conv2D(64, kernel_size = (4,4), activation = 'relu', input_shape = (14, 14, 32) ))\n",
    "     # filter 개수(FN1)가 채널의 개수가 된다. \n",
    "model.add(MaxPooling2D(pool_size = (2,2)))\n",
    "\n",
    "##### Affine(완전 연결 계층) layer #####\n",
    "#affine layer만들기 위해 1차원으로 평활(flatten)\n",
    "\n",
    "model.add(Flatten())     # 맨 마지막 모델을 flatten해준다.\n",
    "\n",
    "#Dense layer(Affine(완전 연결 계층) layer 1)\n",
    "model.add(Dense(128, activation = 'relu'))       # input은 쓰지 않아도 됨. output만 써준다. 128 = FCS1(final_conv_size_1)\n",
    "# Affine layer 2\n",
    "model.add(Dense(num_classes, activation = 'softmax'))\n",
    "\n",
    "model.compile(loss=keras.losses.categorical_crossentropy, optimizer=keras.optimizers.Adadelta(), \n",
    "              metrics=['accuracy'])\n",
    "model.fit(train_xdata, train_labels, batch_size=batch_size, verbose=1, epochs=2)  \n",
    " "
   ]
  },
  {
   "cell_type": "code",
   "execution_count": 56,
   "metadata": {},
   "outputs": [
    {
     "data": {
      "text/plain": [
       "[0.04033238738840446, 0.9868]"
      ]
     },
     "execution_count": 56,
     "metadata": {},
     "output_type": "execute_result"
    }
   ],
   "source": [
    "model.evaluate(test_xdata, test_labels, verbose=0)"
   ]
  },
  {
   "cell_type": "code",
   "execution_count": null,
   "metadata": {},
   "outputs": [],
   "source": []
  }
 ],
 "metadata": {
  "kernelspec": {
   "display_name": "Python 3",
   "language": "python",
   "name": "python3"
  },
  "language_info": {
   "codemirror_mode": {
    "name": "ipython",
    "version": 3
   },
   "file_extension": ".py",
   "mimetype": "text/x-python",
   "name": "python",
   "nbconvert_exporter": "python",
   "pygments_lexer": "ipython3",
   "version": "3.5.6"
  }
 },
 "nbformat": 4,
 "nbformat_minor": 2
}
