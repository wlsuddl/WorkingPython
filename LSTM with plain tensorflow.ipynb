{
 "cells": [
  {
   "cell_type": "markdown",
   "metadata": {},
   "source": [
    "## LSTM with plain tensorflow"
   ]
  },
  {
   "cell_type": "code",
   "execution_count": 1,
   "metadata": {},
   "outputs": [],
   "source": [
    "import tensorflow as tf\n",
    "from tensorflow.python.ops import gen_array_ops\n",
    "from tensorflow.python.ops import array_ops\n",
    "from sklearn.model_selection import train_test_split \n",
    "import numpy as np\n",
    "import matplotlib as mpl\n",
    "import matplotlib.pyplot as plt"
   ]
  },
  {
   "cell_type": "code",
   "execution_count": 2,
   "metadata": {},
   "outputs": [],
   "source": [
    "def sin(x, T=100):\n",
    "    return np.sin(2.0*np.pi*x/T)"
   ]
  },
  {
   "cell_type": "code",
   "execution_count": 3,
   "metadata": {},
   "outputs": [
    {
     "data": {
      "text/plain": [
       "array([0.06279052, 0.12533323, 0.18738131, 0.24868989, 0.30901699])"
      ]
     },
     "execution_count": 3,
     "metadata": {},
     "output_type": "execute_result"
    }
   ],
   "source": [
    "x = np.array([1,2,3,4,5])\n",
    "sin(x)"
   ]
  },
  {
   "cell_type": "code",
   "execution_count": 4,
   "metadata": {},
   "outputs": [
    {
     "data": {
      "text/plain": [
       "[<matplotlib.lines.Line2D at 0x1a206621d0>]"
      ]
     },
     "execution_count": 4,
     "metadata": {},
     "output_type": "execute_result"
    },
    {
     "data": {
      "image/png": "[encoded data removed]",
      "text/plain": [
       "<Figure size 432x288 with 1 Axes>"
      ]
     },
     "metadata": {
      "needs_background": "light"
     },
     "output_type": "display_data"
    }
   ],
   "source": [
    "def toy_problem(T=100, ampl=0.05): \n",
    "    x = np.arange(0, 2*T + 1)\n",
    "    noise = ampl * np.random.uniform(low=-1.0, high=1.0, size=len(x)) \n",
    "    return sin(x) + noise\n",
    "\n",
    "T=100\n",
    "f = toy_problem(T)\n",
    "x=np.arange(0, 2*T + 1)\n",
    "plt.plot(x, f)"
   ]
  },
  {
   "cell_type": "code",
   "execution_count": 5,
   "metadata": {},
   "outputs": [],
   "source": [
    "length_of_sequences = 2*T\n",
    "maxlen = 25\n",
    "\n",
    "data = []\n",
    "target = []\n",
    "\n",
    "for i in range(0, length_of_sequences - maxlen +1): \n",
    "    data.append(f[i:i+maxlen]) \n",
    "    target.append(f[i+maxlen])"
   ]
  },
  {
   "cell_type": "code",
   "execution_count": 6,
   "metadata": {},
   "outputs": [],
   "source": [
    "X = np.array(data).reshape(len(data), maxlen, 1)\n",
    "Y = np.array(target).reshape(len(data), 1)"
   ]
  },
  {
   "cell_type": "code",
   "execution_count": 7,
   "metadata": {},
   "outputs": [],
   "source": [
    "N_train = int(len(data)*0.9)\n",
    "N_validation = len(data)-N_train\n",
    "X_train, X_validation, Y_train, Y_validation = train_test_split(X, Y, test_size=N_validation)"
   ]
  },
  {
   "cell_type": "markdown",
   "metadata": {},
   "source": [
    "## Tensorflow\n"
   ]
  },
  {
   "cell_type": "code",
   "execution_count": 13,
   "metadata": {},
   "outputs": [],
   "source": [
    "tf.reset_default_graph()\n",
    "def inference(x, n_batch, maxlen=None, n_hidden=None, n_out=None, n_in=None):        \n",
    "    def weight_variable(shape):          #Weight function \n",
    "        return tf.Variable(tf.truncated_normal(shape, stddev=0.01))\n",
    "    def bias_variable(shape):            #Bias function\n",
    "        return tf.Variable(tf.zeros(shape))\n",
    "    \n",
    "    #Initialize State\n",
    "    init_state = tf.truncated_normal(shape=(n_batch, 2*n_hidden), stddev=0.01) \n",
    "    state=init_state\n",
    "    \n",
    "    outputs = []    # 가장 마지막 것들만 저장할 output\n",
    "    \n",
    "    #Weights of the last state(n_in을 받음)\n",
    "    Ws = tf.get_variable('Ws', shape=(n_in, 4*n_hidden), initializer=tf.contrib.layers.xavier_initializer(), \n",
    "                         dtype=tf.float32)\n",
    "    #Weights of the hidden state \n",
    "    Wh = tf.get_variable('Wh', shape=(n_hidden, 4*n_hidden), initializer=tf.contrib.layers.xavier_initializer(),\n",
    "                         dtype=tf.float32)\n",
    "    #Bias of the network\n",
    "    bh = tf.get_variable('bh', shape=(1, 4*n_hidden), initializer=tf.contrib.layers.xavier_initializer(),\n",
    "                         dtype=tf.float32)\n",
    "    \n",
    "    for t in range(maxlen):\n",
    "        # c : hidden state, h : state \n",
    "        #c, h = gen_array_ops.split(axis=1, num_split=2, value=state)\n",
    "        c, h = array_ops.split(axis=1, num_or_size_splits=2, value=state)\n",
    "        \n",
    "        concate = (tf.matmul(x[:, t, :],Ws) + tf.matmul(h,Wh) + bh)\n",
    "\n",
    "        # i = input_gate, j = new_input, f = forget_gate, o = output_gate \n",
    "        #i, j, f, o = gen_array_ops.split(axis=1, num_split=4, value=concate)\n",
    "        i, j, f, o = array_ops.split(axis=1, num_or_size_splits=4, value=concate)\n",
    "        \n",
    "        # new_c : new hidden state, new_h : new state\n",
    "        new_c = (c * tf.sigmoid(f + 1) + tf.sigmoid(i) *  tf.nn.relu(j))\n",
    "        new_h = tf.nn.relu(new_c) * tf.sigmoid(o)\n",
    "        \n",
    "        #state = gen_array_ops.concat(1, [new_c, new_h])\n",
    "        state = array_ops.concat([new_c, new_h],1)\n",
    "        outputs.append(state)\n",
    "    \n",
    "    output = outputs[-1]\n",
    "    V = weight_variable([2*n_hidden, n_out])\n",
    "    b = bias_variable([n_out])\n",
    "    y = tf.matmul(output, V) + b      #final y \n",
    "    return y"
   ]
  },
  {
   "cell_type": "code",
   "execution_count": 14,
   "metadata": {},
   "outputs": [
    {
     "data": {
      "text/plain": [
       "(176, 1)"
      ]
     },
     "execution_count": 14,
     "metadata": {},
     "output_type": "execute_result"
    }
   ],
   "source": [
    "X[:,1,:].shape"
   ]
  },
  {
   "cell_type": "code",
   "execution_count": 16,
   "metadata": {},
   "outputs": [],
   "source": [
    "n_in = 1\n",
    "n_hidden = 50\n",
    "n_out = 1\n",
    "x = tf.placeholder(tf.float32, shape=[None, maxlen, n_in]) \n",
    "t = tf.placeholder(tf.float32, shape=[None, n_out]) \n",
    "n_batch = tf.placeholder(tf.int32, shape=[])\n",
    "y = inference(x,  n_batch=n_batch, maxlen=maxlen, n_hidden=n_hidden, n_out=n_out, n_in=n_in)"
   ]
  },
  {
   "cell_type": "code",
   "execution_count": 17,
   "metadata": {},
   "outputs": [],
   "source": [
    "## Loss function\n",
    "def loss(y, t):\n",
    "    mse = tf.reduce_mean(tf.square(y-t))\n",
    "    return mse\n",
    "\n",
    "def training(loss):\n",
    "    optimizer = tf.train.AdamOptimizer(learning_rate=0.001, beta1=0.9, beta2=0.999) \n",
    "    train_step = optimizer.minimize(loss)\n",
    "    return train_step\n",
    "\n",
    "loss = loss(y,t)\n",
    "train_step = training(loss)"
   ]
  },
  {
   "cell_type": "code",
   "execution_count": 18,
   "metadata": {},
   "outputs": [
    {
     "name": "stdout",
     "output_type": "stream",
     "text": [
      "epoch: 0 validation loss: 0.43829358\n",
      "epoch: 100 validation loss: 0.0065502846\n",
      "epoch: 200 validation loss: 0.0016292734\n",
      "epoch: 300 validation loss: 0.0013736805\n",
      "epoch: 400 validation loss: 0.0013832782\n",
      "epoch: 500 validation loss: 0.0013618933\n",
      "epoch: 600 validation loss: 0.0014775431\n",
      "epoch: 700 validation loss: 0.0024218154\n",
      "epoch: 800 validation loss: 0.002348496\n",
      "epoch: 900 validation loss: 0.0017850788\n"
     ]
    }
   ],
   "source": [
    "## Training\n",
    "from sklearn.utils import shuffle\n",
    "\n",
    "epochs = 1000\n",
    "batch_size = 10\n",
    "init = tf.global_variables_initializer()\n",
    "sess = tf.Session()\n",
    "sess.run(init)\n",
    "\n",
    "n_batches = N_train // batch_size \n",
    "my_loss = []\n",
    "for epoch in range(epochs):\n",
    "    X_, Y_ = shuffle(X_train, Y_train) \n",
    "    \n",
    "    for i in range(n_batches):\n",
    "        start = i* batch_size\n",
    "        end = start + batch_size\n",
    "    \n",
    "    sess.run(train_step, feed_dict={\n",
    "        x: X_[start:end],\n",
    "        t: Y_[start:end],\n",
    "        n_batch: batch_size\n",
    "    })\n",
    "    \n",
    "    val_loss = loss.eval(session=sess, feed_dict={\n",
    "        x: X_validation,\n",
    "        t: Y_validation,\n",
    "        n_batch: N_validation\n",
    "    })\n",
    "    \n",
    "    my_loss.append(val_loss)\n",
    "    \n",
    "    if (epoch %100 == 0) :\n",
    "        print(\"epoch:\", epoch, \"validation loss:\", val_loss)"
   ]
  },
  {
   "cell_type": "code",
   "execution_count": 19,
   "metadata": {},
   "outputs": [
    {
     "data": {
      "text/plain": [
       "[<matplotlib.lines.Line2D at 0x1c27deccf8>]"
      ]
     },
     "execution_count": 19,
     "metadata": {},
     "output_type": "execute_result"
    },
    {
     "data": {
      "image/png": "[encoded data removed]",
      "text/plain": [
       "<Figure size 432x288 with 1 Axes>"
      ]
     },
     "metadata": {
      "needs_background": "light"
     },
     "output_type": "display_data"
    }
   ],
   "source": [
    "plt.plot(my_loss)"
   ]
  },
  {
   "cell_type": "code",
   "execution_count": 20,
   "metadata": {},
   "outputs": [],
   "source": [
    "#maxlen = 자료길이\n",
    "\n",
    "original = [f[i] for i in range(maxlen)] \n",
    "predicted = [None for i in range(maxlen)]\n",
    "\n",
    "Z=X[:1]\n",
    "for i in range(length_of_sequences - maxlen +1):\n",
    "    z_ = Z[-1:]\n",
    "    y_ = y.eval(session=sess, feed_dict={\n",
    "        x: Z[-1:],\n",
    "        n_batch: 1 \n",
    "    })\n",
    "    \n",
    "    sequence_ = np.concatenate((z_.reshape(maxlen, n_in)[1:], y_), axis=0).reshape(1, maxlen, n_in)\n",
    "    Z = np.append(Z, sequence_, axis=0)\n",
    "    predicted.append(y_.reshape(-1))\n",
    "    "
   ]
  },
  {
   "cell_type": "code",
   "execution_count": 21,
   "metadata": {},
   "outputs": [
    {
     "data": {
      "text/plain": [
       "[<matplotlib.lines.Line2D at 0x1c27557f28>]"
      ]
     },
     "execution_count": 21,
     "metadata": {},
     "output_type": "execute_result"
    },
    {
     "data": {
      "image/png": "[encoded data removed]",
      "text/plain": [
       "<Figure size 432x288 with 1 Axes>"
      ]
     },
     "metadata": {
      "needs_background": "light"
     },
     "output_type": "display_data"
    }
   ],
   "source": [
    "plt.plot(toy_problem(T=100, ampl=0), linestyle=\"dotted\")\n",
    "plt.plot(original, linestyle=\"dashed\")\n",
    "plt.plot(predicted)"
   ]
  }
 ],
 "metadata": {
  "kernelspec": {
   "display_name": "Python 3",
   "language": "python",
   "name": "python3"
  },
  "language_info": {
   "codemirror_mode": {
    "name": "ipython",
    "version": 3
   },
   "file_extension": ".py",
   "mimetype": "text/x-python",
   "name": "python",
   "nbconvert_exporter": "python",
   "pygments_lexer": "ipython3",
   "version": "3.7.0"
  }
 },
 "nbformat": 4,
 "nbformat_minor": 2
}
