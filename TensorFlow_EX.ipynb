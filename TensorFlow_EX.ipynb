{
 "cells": [
  {
   "cell_type": "markdown",
   "metadata": {},
   "source": [
    "# 텍스트 학습"
   ]
  },
  {
   "cell_type": "code",
   "execution_count": null,
   "metadata": {},
   "outputs": [],
   "source": [
    "import numpy as np\n",
    "import tensorflow as tf\n",
    "import pandas as pd\n",
    "import matplotlib.pylab as plt\n",
    "\n",
    "## load data\n",
    "from tensorflow.examples.tutorials.mnist import input_data\n",
    "mnist = input_data.read_data_sets(\"MNIST_data/\", one_hot = True)"
   ]
  },
  {
   "cell_type": "code",
   "execution_count": 2,
   "metadata": {},
   "outputs": [
    {
     "name": "stdout",
     "output_type": "stream",
     "text": [
      "43120000 (55000, 784)\n",
      "550000 (55000, 10)\n"
     ]
    }
   ],
   "source": [
    "train_xdata = np.array([np.reshape(x, (28*28)) for x in mnist.train.images])     \n",
    "test_xdata = np.array([np.reshape(x, (28*28)) for x in mnist.test.images])    # 나중에 feeding 할 것.\n",
    "\n",
    "train_labels = mnist.train.labels\n",
    "test_labels = mnist.test.labels                   # 나중에 feeding 할 것.\n",
    "\n",
    "print(train_xdata.size, train_xdata.shape)\n",
    "print(train_labels.size, train_labels.shape)"
   ]
  },
  {
   "cell_type": "code",
   "execution_count": 4,
   "metadata": {},
   "outputs": [],
   "source": [
    "X = tf.placeholder(tf.float32, [None, 784])      # 28*28 픽셀로 one-hot 인코딩이므로 784가지 특징으로 구성됨.\n",
    "Y = tf.placeholder(tf.float32, [None, 10])       # label은 0부터 9까지 총 10개, True Y\n",
    "\n",
    "W1 = tf.Variable(tf.random_normal([784,484]))\n",
    "b1 = tf.Variable(tf.zeros([484]))\n",
    "layer1 = tf.nn.relu(tf.matmul(X,W1) + b1)\n",
    "\n",
    "W2 = tf.Variable(tf.random_normal([484,256]))\n",
    "b2 = tf.Variable(tf.zeros([256]))\n",
    "layer2 = tf.nn.relu(tf.matmul(layer1,W2) + b2)\n",
    "\n",
    "W3 = tf.Variable(tf.random_normal([256,64]))\n",
    "b3 = tf.Variable(tf.zeros([64]))\n",
    "layer3 = tf.nn.relu(tf.matmul(layer2,W3) + b3)\n",
    "\n",
    "W4 = tf.Variable(tf.random_normal([64,10]))\n",
    "b4 = tf.Variable(tf.zeros([10]))\n",
    "logits = tf.matmul(layer3, W4)+b4\n",
    "model = tf.nn.softmax(logits)                # hypothesis Y\n",
    "\n",
    "cross_entropy= tf.reduce_mean(tf.nn.softmax_cross_entropy_with_logits(logits=logits, labels=Y))\n",
    "#cross_entropy= -tf.reduce_sum( Y*tf.log(model)+(1-Y)*tf.log(1-model))\n",
    "\n",
    "#train_step = tf.train.GradientDescentOptimizer(learning_rate=0.01).minimize(cross_entropy)\n",
    "train_step = tf.train.AdamOptimizer(0.001).minimize(cross_entropy)\n",
    "\n",
    "correct_prediction = tf.equal(tf.arg_max(model,1), tf.arg_max(Y, 1))       #행 방향으로 같은지.\n",
    "#correct_prediction=tf.equal( tf.to_float(tf.greater(model,0.5)), Y ) \n",
    "\n",
    "accuracy  = tf.reduce_mean(tf.cast(correct_prediction, tf.float32))\n",
    "\n",
    "\n",
    "# shuffle function\n",
    "from sklearn.utils import shuffle\n",
    "\n",
    "## initializing\n",
    "sess = tf.Session()\n",
    "init = tf.global_variables_initializer()\n",
    "sess.run(init)\n",
    "\n",
    "## mini batch 학습\n",
    "train_epochs = 100\n",
    "batch_size = 100\n",
    "n_batch = int(mnist.train.num_examples / batch_size)\n",
    "\n",
    "for epoch in range(train_epochs):\n",
    "    X_, Y_ = shuffle(train_xdata, train_labels)\n",
    "    \n",
    "    for i in range(n_batch):\n",
    "        start = 0 + i * batch_size\n",
    "        end = start + batch_size\n",
    "        \n",
    "        sess.run(train_step, feed_dict={\n",
    "        X:X_[start:end, ],\n",
    "        Y:Y_[start:end, ]\n",
    "        })\n",
    "    \n",
    "# 훈련 끝"
   ]
  },
  {
   "cell_type": "code",
   "execution_count": 5,
   "metadata": {},
   "outputs": [
    {
     "name": "stdout",
     "output_type": "stream",
     "text": [
      "Accuracy: 0.9718\n"
     ]
    }
   ],
   "source": [
    "print(\"Accuracy:\", accuracy.eval(session=sess, feed_dict={X:test_xdata, Y:test_labels}))"
   ]
  },
  {
   "cell_type": "code",
   "execution_count": 6,
   "metadata": {},
   "outputs": [
    {
     "data": {
      "text/html": [
       "<div>\n",
       "<style scoped>\n",
       "    .dataframe tbody tr th:only-of-type {\n",
       "        vertical-align: middle;\n",
       "    }\n",
       "\n",
       "    .dataframe tbody tr th {\n",
       "        vertical-align: top;\n",
       "    }\n",
       "\n",
       "    .dataframe thead th {\n",
       "        text-align: right;\n",
       "    }\n",
       "</style>\n",
       "<table border=\"1\" class=\"dataframe\">\n",
       "  <thead>\n",
       "    <tr style=\"text-align: right;\">\n",
       "      <th></th>\n",
       "      <th>label</th>\n",
       "      <th>predict</th>\n",
       "    </tr>\n",
       "  </thead>\n",
       "  <tbody>\n",
       "    <tr>\n",
       "      <th>62</th>\n",
       "      <td>9</td>\n",
       "      <td>8</td>\n",
       "    </tr>\n",
       "    <tr>\n",
       "      <th>211</th>\n",
       "      <td>5</td>\n",
       "      <td>8</td>\n",
       "    </tr>\n",
       "    <tr>\n",
       "      <th>247</th>\n",
       "      <td>4</td>\n",
       "      <td>6</td>\n",
       "    </tr>\n",
       "    <tr>\n",
       "      <th>259</th>\n",
       "      <td>6</td>\n",
       "      <td>0</td>\n",
       "    </tr>\n",
       "    <tr>\n",
       "      <th>274</th>\n",
       "      <td>9</td>\n",
       "      <td>3</td>\n",
       "    </tr>\n",
       "  </tbody>\n",
       "</table>\n",
       "</div>"
      ],
      "text/plain": [
       "     label  predict\n",
       "62       9        8\n",
       "211      5        8\n",
       "247      4        6\n",
       "259      6        0\n",
       "274      9        3"
      ]
     },
     "execution_count": 6,
     "metadata": {},
     "output_type": "execute_result"
    }
   ],
   "source": [
    "## comparing ##\n",
    "\n",
    "label = sess.run(tf.argmax(test_labels, 1))\n",
    "prediction = sess.run(tf.argmax(model, 1), feed_dict={X: test_xdata})\n",
    "\n",
    "# list 할당.\n",
    "real=[]\n",
    "pred=[]\n",
    "index=[]\n",
    "for i in range(0, mnist.test.num_examples):\n",
    "    if label[i] != prediction[i]:\n",
    "        index.append(i)\n",
    "        real.append(label[i])\n",
    "        pred.append(prediction[i])\n",
    "        \n",
    "fault_result = pd.DataFrame({'label':real, 'predict':pred}, index=index)         #pandas dataframe\n",
    "fault_result.head()"
   ]
  },
  {
   "cell_type": "code",
   "execution_count": 7,
   "metadata": {},
   "outputs": [
    {
     "data": {
      "image/png": "[encoded data removed]",
      "text/plain": [
       "<Figure size 720x720 with 6 Axes>"
      ]
     },
     "metadata": {
      "needs_background": "light"
     },
     "output_type": "display_data"
    }
   ],
   "source": [
    "## plotting\n",
    "comparing_data = fault_result.query('label == 7').sample(n=6).index         #잘못 예측된 데이터 중 간단히 6개만 추출.\n",
    "\n",
    "count = 0\n",
    "nrows = 4\n",
    "ncols = 3\n",
    "plt.figure(figsize=(10,10))\n",
    "for i in comparing_data:          #index i 가 comparing data안에서 for문 반복.\n",
    "    count += 1\n",
    "    plt.subplot(nrows, ncols, count)\n",
    "    plt.imshow(test_xdata[i].reshape(28, 28), cmap='Greys', interpolation='nearest')\n",
    "    plots = \"Label:\" + str(fault_result['label'][i]) + \", Prediction:\" + str(fault_result['predict'][i])\n",
    "    plt.title(plots)\n",
    "\n",
    "plt.tight_layout()\n",
    "plt.show()"
   ]
  },
  {
   "cell_type": "code",
   "execution_count": null,
   "metadata": {},
   "outputs": [],
   "source": []
  }
 ],
 "metadata": {
  "kernelspec": {
   "display_name": "Python 3",
   "language": "python",
   "name": "python3"
  },
  "language_info": {
   "codemirror_mode": {
    "name": "ipython",
    "version": 3
   },
   "file_extension": ".py",
   "mimetype": "text/x-python",
   "name": "python",
   "nbconvert_exporter": "python",
   "pygments_lexer": "ipython3",
   "version": "3.5.6"
  }
 },
 "nbformat": 4,
 "nbformat_minor": 2
}
