{
 "cells": [
  {
   "cell_type": "code",
   "execution_count": 12,
   "metadata": {},
   "outputs": [
    {
     "name": "stdout",
     "output_type": "stream",
     "text": [
      "Extracting MNIST_data/train-images-idx3-ubyte.gz\n",
      "Extracting MNIST_data/train-labels-idx1-ubyte.gz\n",
      "Extracting MNIST_data/t10k-images-idx3-ubyte.gz\n",
      "Extracting MNIST_data/t10k-labels-idx1-ubyte.gz\n"
     ]
    }
   ],
   "source": [
    "import numpy as np\n",
    "import tensorflow as tf\n",
    "import matplotlib.pyplot as plt \n",
    "from tensorflow.examples.tutorials.mnist import input_data\n",
    "mnist=input_data.read_data_sets(\"MNIST_data/\", one_hot=True)"
   ]
  },
  {
   "cell_type": "code",
   "execution_count": 13,
   "metadata": {},
   "outputs": [],
   "source": [
    "train_xdata = np.array( [ np.reshape(x, 28*28) for x in mnist.train.images ]) #cf. 28, 28은 이미지로 불러옴// 28*28은 데이터로 불러옴\n",
    "test_xdata = np.array( [ np.reshape(x, 28*28) for x in mnist.test.images ]) #cf. 28, 28은 이미지로 불러옴// 28*28은 데이터로 불러옴\n",
    "train_labels= mnist.train.labels\n",
    "test_labels= mnist.test.labels"
   ]
  },
  {
   "cell_type": "code",
   "execution_count": 14,
   "metadata": {},
   "outputs": [],
   "source": [
    "import keras\n",
    "from keras.models import Sequential\n",
    "from keras.layers import Dense, Activation\n",
    "from keras.optimizers import SGD\n",
    "from keras import regularizers\n",
    "from keras.layers import Dropout\n"
   ]
  },
  {
   "cell_type": "code",
   "execution_count": 15,
   "metadata": {},
   "outputs": [],
   "source": [
    "#____________________________ L2(Ridge) _______________________________\n",
    "x_in= train_xdata.shape[1]\n",
    "n_hidden=50\n",
    "n_out=train_labels.shape[1]\n",
    "\n"
   ]
  },
  {
   "cell_type": "code",
   "execution_count": 16,
   "metadata": {},
   "outputs": [
    {
     "data": {
      "text/plain": [
       "784"
      ]
     },
     "execution_count": 16,
     "metadata": {},
     "output_type": "execute_result"
    }
   ],
   "source": [
    "x_in"
   ]
  },
  {
   "cell_type": "code",
   "execution_count": 17,
   "metadata": {},
   "outputs": [],
   "source": [
    "model = Sequential()\n",
    "model.add(Dense(n_hidden, input_dim=x_in)) #50, 784\n",
    "model.add(Dropout(0.2))\n",
    "\n",
    "model.add(Activation(\"relu\"))"
   ]
  },
  {
   "cell_type": "code",
   "execution_count": 18,
   "metadata": {},
   "outputs": [],
   "source": [
    "model.add(Dense(n_hidden+10, input_dim=n_hidden, kernel_regularizer=regularizers.l2(0.01) )) # 60*50 대각선끼리 차원 같아야(이번기 output, 다음기 input)\n",
    "model.add(Activation(\"relu\"))"
   ]
  },
  {
   "cell_type": "code",
   "execution_count": 19,
   "metadata": {},
   "outputs": [],
   "source": [
    "model.add(Dense(n_out, input_dim=n_hidden+10))     #ouput dim , input dim\n",
    "model.add(Activation(\"softmax\"))\n",
    "\n",
    "model.compile(loss=\"categorical_crossentropy\", optimizer=SGD(lr=0.01),metrics=[\"accuracy\"]) #lr: learning rate"
   ]
  },
  {
   "cell_type": "code",
   "execution_count": 20,
   "metadata": {},
   "outputs": [
    {
     "name": "stdout",
     "output_type": "stream",
     "text": [
      "Epoch 1/100\n",
      "55000/55000 [==============================] - 2s 31us/step - loss: 2.1129 - acc: 0.5136\n",
      "Epoch 2/100\n",
      "55000/55000 [==============================] - 1s 27us/step - loss: 1.2112 - acc: 0.7755\n",
      "Epoch 3/100\n",
      "55000/55000 [==============================] - 2s 32us/step - loss: 0.9655 - acc: 0.8275\n",
      "Epoch 4/100\n",
      "55000/55000 [==============================] - 2s 28us/step - loss: 0.8339 - acc: 0.8511\n",
      "Epoch 5/100\n",
      "55000/55000 [==============================] - 1s 27us/step - loss: 0.7444 - acc: 0.8642\n",
      "Epoch 6/100\n",
      "55000/55000 [==============================] - 1s 27us/step - loss: 0.6739 - acc: 0.8743\n",
      "Epoch 7/100\n",
      "55000/55000 [==============================] - 1s 26us/step - loss: 0.6203 - acc: 0.8806\n",
      "Epoch 8/100\n",
      "55000/55000 [==============================] - 1s 26us/step - loss: 0.5756 - acc: 0.8867\n",
      "Epoch 9/100\n",
      "55000/55000 [==============================] - 1s 26us/step - loss: 0.5389 - acc: 0.8908\n",
      "Epoch 10/100\n",
      "55000/55000 [==============================] - 1s 26us/step - loss: 0.5062 - acc: 0.8976\n",
      "Epoch 11/100\n",
      "55000/55000 [==============================] - 1s 26us/step - loss: 0.4844 - acc: 0.8981\n",
      "Epoch 12/100\n",
      "55000/55000 [==============================] - 1s 26us/step - loss: 0.4589 - acc: 0.9025\n",
      "Epoch 13/100\n",
      "55000/55000 [==============================] - 1s 26us/step - loss: 0.4401 - acc: 0.9048\n",
      "Epoch 14/100\n",
      "55000/55000 [==============================] - 1s 26us/step - loss: 0.4264 - acc: 0.9067\n",
      "Epoch 15/100\n",
      "55000/55000 [==============================] - 1s 26us/step - loss: 0.4129 - acc: 0.9078\n",
      "Epoch 16/100\n",
      "55000/55000 [==============================] - 1s 25us/step - loss: 0.4007 - acc: 0.9099\n",
      "Epoch 17/100\n",
      "55000/55000 [==============================] - 1s 26us/step - loss: 0.3897 - acc: 0.9121\n",
      "Epoch 18/100\n",
      "55000/55000 [==============================] - 1s 26us/step - loss: 0.3807 - acc: 0.9132\n",
      "Epoch 19/100\n",
      "55000/55000 [==============================] - 1s 26us/step - loss: 0.3709 - acc: 0.9157\n",
      "Epoch 20/100\n",
      "55000/55000 [==============================] - 1s 26us/step - loss: 0.3608 - acc: 0.9179\n",
      "Epoch 21/100\n",
      "55000/55000 [==============================] - 1s 26us/step - loss: 0.3539 - acc: 0.9182\n",
      "Epoch 22/100\n",
      "55000/55000 [==============================] - 1s 26us/step - loss: 0.3461 - acc: 0.9196\n",
      "Epoch 23/100\n",
      "55000/55000 [==============================] - 1s 27us/step - loss: 0.3397 - acc: 0.9217\n",
      "Epoch 24/100\n",
      "55000/55000 [==============================] - 1s 26us/step - loss: 0.3350 - acc: 0.9224\n",
      "Epoch 25/100\n",
      "55000/55000 [==============================] - 1s 26us/step - loss: 0.3311 - acc: 0.9228\n",
      "Epoch 26/100\n",
      "55000/55000 [==============================] - 2s 31us/step - loss: 0.3256 - acc: 0.9244\n",
      "Epoch 27/100\n",
      "55000/55000 [==============================] - 2s 31us/step - loss: 0.3209 - acc: 0.9248\n",
      "Epoch 28/100\n",
      "55000/55000 [==============================] - 2s 31us/step - loss: 0.3167 - acc: 0.9257: 0s - loss: 0.3197 - acc\n",
      "Epoch 29/100\n",
      "55000/55000 [==============================] - 2s 28us/step - loss: 0.3131 - acc: 0.9269: 1s - loss\n",
      "Epoch 30/100\n",
      "55000/55000 [==============================] - 2s 28us/step - loss: 0.3103 - acc: 0.9267: 0s - loss: 0.310\n",
      "Epoch 31/100\n",
      "55000/55000 [==============================] - 2s 28us/step - loss: 0.3054 - acc: 0.9281\n",
      "Epoch 32/100\n",
      "55000/55000 [==============================] - 2s 31us/step - loss: 0.3019 - acc: 0.9293\n",
      "Epoch 33/100\n",
      "55000/55000 [==============================] - 2s 29us/step - loss: 0.2997 - acc: 0.9307\n",
      "Epoch 34/100\n",
      "55000/55000 [==============================] - 1s 26us/step - loss: 0.2954 - acc: 0.9313\n",
      "Epoch 35/100\n",
      "55000/55000 [==============================] - 2s 28us/step - loss: 0.2930 - acc: 0.9300\n",
      "Epoch 36/100\n",
      "55000/55000 [==============================] - 2s 28us/step - loss: 0.2885 - acc: 0.9318\n",
      "Epoch 37/100\n",
      "55000/55000 [==============================] - 2s 28us/step - loss: 0.2866 - acc: 0.9331\n",
      "Epoch 38/100\n",
      "55000/55000 [==============================] - 2s 29us/step - loss: 0.2834 - acc: 0.9332\n",
      "Epoch 39/100\n",
      "55000/55000 [==============================] - 1s 26us/step - loss: 0.2802 - acc: 0.9334\n",
      "Epoch 40/100\n",
      "55000/55000 [==============================] - 1s 27us/step - loss: 0.2800 - acc: 0.9332\n",
      "Epoch 41/100\n",
      "55000/55000 [==============================] - 1s 27us/step - loss: 0.2755 - acc: 0.9357\n",
      "Epoch 42/100\n",
      "55000/55000 [==============================] - 1s 27us/step - loss: 0.2744 - acc: 0.9355\n",
      "Epoch 43/100\n",
      "55000/55000 [==============================] - 2s 30us/step - loss: 0.2726 - acc: 0.9343\n",
      "Epoch 44/100\n",
      "55000/55000 [==============================] - 1s 27us/step - loss: 0.2672 - acc: 0.9365\n",
      "Epoch 45/100\n",
      "55000/55000 [==============================] - 2s 29us/step - loss: 0.2657 - acc: 0.9379\n",
      "Epoch 46/100\n",
      "55000/55000 [==============================] - 1s 26us/step - loss: 0.2639 - acc: 0.9374\n",
      "Epoch 47/100\n",
      "55000/55000 [==============================] - 2s 32us/step - loss: 0.2622 - acc: 0.9375\n",
      "Epoch 48/100\n",
      "55000/55000 [==============================] - 1s 27us/step - loss: 0.2605 - acc: 0.9384\n",
      "Epoch 49/100\n",
      "55000/55000 [==============================] - 1s 27us/step - loss: 0.2585 - acc: 0.9397\n",
      "Epoch 50/100\n",
      "55000/55000 [==============================] - 1s 26us/step - loss: 0.2560 - acc: 0.9389\n",
      "Epoch 51/100\n",
      "55000/55000 [==============================] - 2s 29us/step - loss: 0.2549 - acc: 0.9398\n",
      "Epoch 52/100\n",
      "55000/55000 [==============================] - 1s 27us/step - loss: 0.2537 - acc: 0.9397\n",
      "Epoch 53/100\n",
      "55000/55000 [==============================] - 1s 26us/step - loss: 0.2506 - acc: 0.9398\n",
      "Epoch 54/100\n",
      "55000/55000 [==============================] - 2s 28us/step - loss: 0.2492 - acc: 0.9411\n",
      "Epoch 55/100\n",
      "55000/55000 [==============================] - 1s 27us/step - loss: 0.2476 - acc: 0.9404\n",
      "Epoch 56/100\n",
      "55000/55000 [==============================] - 1s 26us/step - loss: 0.2462 - acc: 0.9409\n",
      "Epoch 57/100\n",
      "55000/55000 [==============================] - 1s 26us/step - loss: 0.2455 - acc: 0.9413\n",
      "Epoch 58/100\n",
      "55000/55000 [==============================] - 2s 28us/step - loss: 0.2422 - acc: 0.9430\n",
      "Epoch 59/100\n",
      "55000/55000 [==============================] - 1s 26us/step - loss: 0.2416 - acc: 0.9424\n",
      "Epoch 60/100\n",
      "55000/55000 [==============================] - 1s 26us/step - loss: 0.2414 - acc: 0.9421\n",
      "Epoch 61/100\n",
      "55000/55000 [==============================] - 1s 27us/step - loss: 0.2396 - acc: 0.9432\n",
      "Epoch 62/100\n",
      "55000/55000 [==============================] - 2s 29us/step - loss: 0.2373 - acc: 0.9440\n",
      "Epoch 63/100\n",
      "55000/55000 [==============================] - 1s 27us/step - loss: 0.2370 - acc: 0.9431\n",
      "Epoch 64/100\n",
      "55000/55000 [==============================] - 1s 27us/step - loss: 0.2352 - acc: 0.9443\n",
      "Epoch 65/100\n",
      "55000/55000 [==============================] - 1s 26us/step - loss: 0.2346 - acc: 0.9439: 0s - loss: 0.2311 - acc: 0.944 - ETA: 0s - loss: 0.23\n",
      "Epoch 66/100\n",
      "55000/55000 [==============================] - 2s 28us/step - loss: 0.2340 - acc: 0.9437\n",
      "Epoch 67/100\n",
      "55000/55000 [==============================] - 2s 28us/step - loss: 0.2302 - acc: 0.9457\n",
      "Epoch 68/100\n",
      "55000/55000 [==============================] - 1s 27us/step - loss: 0.2309 - acc: 0.9447\n",
      "Epoch 69/100\n",
      "55000/55000 [==============================] - 2s 27us/step - loss: 0.2280 - acc: 0.9451: 0s - loss: 0.2279 - acc: 0.94\n",
      "Epoch 70/100\n",
      "55000/55000 [==============================] - 1s 27us/step - loss: 0.2297 - acc: 0.9440\n",
      "Epoch 71/100\n",
      "55000/55000 [==============================] - 1s 27us/step - loss: 0.2272 - acc: 0.9449\n",
      "Epoch 72/100\n",
      "55000/55000 [==============================] - 1s 27us/step - loss: 0.2259 - acc: 0.9453\n",
      "Epoch 73/100\n",
      "55000/55000 [==============================] - 1s 27us/step - loss: 0.2241 - acc: 0.9465\n",
      "Epoch 74/100\n",
      "55000/55000 [==============================] - 1s 27us/step - loss: 0.2244 - acc: 0.9473\n",
      "Epoch 75/100\n",
      "55000/55000 [==============================] - 1s 27us/step - loss: 0.2240 - acc: 0.9465\n",
      "Epoch 76/100\n",
      "55000/55000 [==============================] - 1s 27us/step - loss: 0.2204 - acc: 0.9470\n",
      "Epoch 77/100\n",
      "55000/55000 [==============================] - 1s 27us/step - loss: 0.2189 - acc: 0.9476\n",
      "Epoch 78/100\n",
      "55000/55000 [==============================] - 1s 26us/step - loss: 0.2204 - acc: 0.9474\n",
      "Epoch 79/100\n",
      "55000/55000 [==============================] - 1s 26us/step - loss: 0.2182 - acc: 0.9479\n",
      "Epoch 80/100\n"
     ]
    },
    {
     "name": "stdout",
     "output_type": "stream",
     "text": [
      "55000/55000 [==============================] - 1s 26us/step - loss: 0.2191 - acc: 0.9477\n",
      "Epoch 81/100\n",
      "55000/55000 [==============================] - 1s 26us/step - loss: 0.2158 - acc: 0.9476\n",
      "Epoch 82/100\n",
      "55000/55000 [==============================] - 1s 27us/step - loss: 0.2146 - acc: 0.9489\n",
      "Epoch 83/100\n",
      "55000/55000 [==============================] - 1s 26us/step - loss: 0.2135 - acc: 0.9489\n",
      "Epoch 84/100\n",
      "55000/55000 [==============================] - 1s 26us/step - loss: 0.2146 - acc: 0.9485\n",
      "Epoch 85/100\n",
      "55000/55000 [==============================] - 1s 26us/step - loss: 0.2151 - acc: 0.9488\n",
      "Epoch 86/100\n",
      "55000/55000 [==============================] - 1s 26us/step - loss: 0.2126 - acc: 0.9489\n",
      "Epoch 87/100\n",
      "55000/55000 [==============================] - 1s 26us/step - loss: 0.2124 - acc: 0.9495\n",
      "Epoch 88/100\n",
      "55000/55000 [==============================] - 1s 26us/step - loss: 0.2099 - acc: 0.9496\n",
      "Epoch 89/100\n",
      "55000/55000 [==============================] - 1s 26us/step - loss: 0.2124 - acc: 0.9492\n",
      "Epoch 90/100\n",
      "55000/55000 [==============================] - 1s 26us/step - loss: 0.2085 - acc: 0.9495\n",
      "Epoch 91/100\n",
      "55000/55000 [==============================] - 1s 27us/step - loss: 0.2077 - acc: 0.9494\n",
      "Epoch 92/100\n",
      "55000/55000 [==============================] - 1s 27us/step - loss: 0.2072 - acc: 0.9504\n",
      "Epoch 93/100\n",
      "55000/55000 [==============================] - 1s 27us/step - loss: 0.2068 - acc: 0.9500\n",
      "Epoch 94/100\n",
      "55000/55000 [==============================] - 1s 26us/step - loss: 0.2051 - acc: 0.9501\n",
      "Epoch 95/100\n",
      "55000/55000 [==============================] - 1s 26us/step - loss: 0.2049 - acc: 0.9502\n",
      "Epoch 96/100\n",
      "55000/55000 [==============================] - 1s 27us/step - loss: 0.2068 - acc: 0.9501: 0s - loss: 0.2065 - acc: 0.\n",
      "Epoch 97/100\n",
      "55000/55000 [==============================] - 1s 26us/step - loss: 0.2019 - acc: 0.9516\n",
      "Epoch 98/100\n",
      "55000/55000 [==============================] - 1s 27us/step - loss: 0.2038 - acc: 0.9500\n",
      "Epoch 99/100\n",
      "55000/55000 [==============================] - 1s 26us/step - loss: 0.2022 - acc: 0.9516\n",
      "Epoch 100/100\n",
      "55000/55000 [==============================] - 1s 26us/step - loss: 0.1999 - acc: 0.9515\n",
      "10000/10000 [==============================] - 0s 23us/step\n",
      "[0.15780468997359276, 0.9634]\n"
     ]
    }
   ],
   "source": [
    "epochs=100\n",
    "batch_size=100\n",
    "model.fit(train_xdata, train_labels, epochs=epochs, batch_size=batch_size, verbose=1)\n",
    "\n",
    "loss_and_metrics = model.evaluate(test_xdata, test_labels)\n",
    "print(loss_and_metrics) \n",
    "#layer 늘려도 train 데이터에 비해 test 데이터는 맞추는 비율 향상 별로 안됨... -> 과적합"
   ]
  },
  {
   "cell_type": "code",
   "execution_count": 22,
   "metadata": {},
   "outputs": [],
   "source": [
    "#____________________________ L1(Lasso) _______________________________\n",
    "model = Sequential()\n",
    "model.add(Dense(n_hidden, input_dim=x_in, kernel_regularizer=regularizers.l1(0.05) )) #50, 784\n",
    "model.add(Dropout(0.2))\n",
    "\n",
    "model.add(Activation(\"relu\"))"
   ]
  },
  {
   "cell_type": "code",
   "execution_count": 23,
   "metadata": {},
   "outputs": [],
   "source": [
    "model.add(Dense(n_hidden+10, input_dim=n_hidden, kernel_regularizer=regularizers.l1(0.05) )) # 60 50 대각선끼리 차원 같아야(이번기 output, 다음기 input)\n",
    "model.add(Activation(\"relu\"))\n"
   ]
  },
  {
   "cell_type": "code",
   "execution_count": 24,
   "metadata": {},
   "outputs": [],
   "source": [
    "model.add(Dense(n_out, input_dim=n_hidden+10,kernel_regularizer=regularizers.l1(0.05) )) #ouput dim , input dim\n",
    "model.add(Activation(\"softmax\"))\n"
   ]
  },
  {
   "cell_type": "code",
   "execution_count": 25,
   "metadata": {},
   "outputs": [],
   "source": [
    "model.compile(loss=\"categorical_crossentropy\", optimizer=SGD(lr=0.05),metrics=[\"accuracy\"]) #lr: learning rate\n"
   ]
  },
  {
   "cell_type": "code",
   "execution_count": 26,
   "metadata": {},
   "outputs": [
    {
     "name": "stdout",
     "output_type": "stream",
     "text": [
      "10000/10000 [==============================] - 0s 30us/step\n",
      "[4.97491316986084, 0.1135]\n"
     ]
    }
   ],
   "source": [
    "epochs=100\n",
    "batch_size=100\n",
    "model.fit(train_xdata, train_labels, epochs=epochs, batch_size=batch_size, verbose=0)\n",
    "\n",
    "loss_and_metrics=model.evaluate(test_xdata, test_labels)\n",
    "print(loss_and_metrics) \n",
    "#layer 늘려도 train 데이터에 비해 test 데이터는 맞추는 비율 향상 별로 안됨... -> 과적합"
   ]
  },
  {
   "cell_type": "code",
   "execution_count": 27,
   "metadata": {},
   "outputs": [],
   "source": [
    "#### drop out\n"
   ]
  },
  {
   "cell_type": "code",
   "execution_count": 28,
   "metadata": {},
   "outputs": [
    {
     "name": "stderr",
     "output_type": "stream",
     "text": [
      "/Users/new/anaconda3/lib/python3.7/site-packages/ipykernel_launcher.py:2: UserWarning: Update your `Dense` call to the Keras 2 API: `Dense(input_dim=784, units=50)`\n",
      "  \n",
      "/Users/new/anaconda3/lib/python3.7/site-packages/ipykernel_launcher.py:5: UserWarning: Update your `Dense` call to the Keras 2 API: `Dense(input_dim=50, units=60)`\n",
      "  \"\"\"\n",
      "/Users/new/anaconda3/lib/python3.7/site-packages/ipykernel_launcher.py:8: UserWarning: Update your `Dense` call to the Keras 2 API: `Dense(input_dim=60, units=10)`\n",
      "  \n"
     ]
    }
   ],
   "source": [
    "model = Sequential()\n",
    "model.add(Dense(output_dim=n_hidden, input_dim=x_in))\n",
    "model.add(Activation(\"relu\"))\n",
    "model.add(Dropout(0.25))\n",
    "model.add(Dense(output_dim=n_hidden+10, input_dim=n_hidden))\n",
    "model.add(Activation(\"relu\"))\n",
    "model.add(Dropout(0.25))\n",
    "model.add(Dense(output_dim=n_out, input_dim=n_hidden+10 ))\n",
    "model.add(Activation(\"softmax\"))"
   ]
  },
  {
   "cell_type": "code",
   "execution_count": 29,
   "metadata": {},
   "outputs": [
    {
     "name": "stdout",
     "output_type": "stream",
     "text": [
      "Epoch 1/10\n",
      "55000/55000 [==============================] - 3s 50us/step - loss: 0.6340 - acc: 0.8023\n",
      "Epoch 2/10\n",
      "55000/55000 [==============================] - 2s 38us/step - loss: 0.3186 - acc: 0.9058\n",
      "Epoch 3/10\n",
      "55000/55000 [==============================] - 2s 37us/step - loss: 0.2592 - acc: 0.9226\n",
      "Epoch 4/10\n",
      "55000/55000 [==============================] - 2s 37us/step - loss: 0.2270 - acc: 0.9322\n",
      "Epoch 5/10\n",
      "55000/55000 [==============================] - 2s 38us/step - loss: 0.2040 - acc: 0.9386\n",
      "Epoch 6/10\n",
      "55000/55000 [==============================] - 2s 37us/step - loss: 0.1903 - acc: 0.9435\n",
      "Epoch 7/10\n",
      "55000/55000 [==============================] - 2s 38us/step - loss: 0.1806 - acc: 0.9458\n",
      "Epoch 8/10\n",
      "55000/55000 [==============================] - 2s 38us/step - loss: 0.1668 - acc: 0.9488\n",
      "Epoch 9/10\n",
      "55000/55000 [==============================] - 2s 38us/step - loss: 0.1642 - acc: 0.9497\n",
      "Epoch 10/10\n",
      "55000/55000 [==============================] - 2s 37us/step - loss: 0.1549 - acc: 0.9525\n",
      "10000/10000 [==============================] - 0s 32us/step\n",
      "[0.1062189719880931, 0.9681]\n"
     ]
    }
   ],
   "source": [
    "model.compile(loss=\"categorical_crossentropy\", optimizer='adam', metrics=[\"accuracy\"])\n",
    "epochs=10\n",
    "batch_size=100\n",
    "model.fit(train_xdata, train_labels, epochs=epochs, batch_size=batch_size, verbose=1)\n",
    "loss_and_metrics=model.evaluate(test_xdata, test_labels)\n",
    "print(loss_and_metrics)"
   ]
  },
  {
   "cell_type": "code",
   "execution_count": 30,
   "metadata": {},
   "outputs": [
    {
     "data": {
      "text/plain": [
       "<keras.callbacks.EarlyStopping at 0x323bfca58>"
      ]
     },
     "execution_count": 30,
     "metadata": {},
     "output_type": "execute_result"
    }
   ],
   "source": [
    "## Early stopping\n",
    "\n",
    "from keras.callbacks import EarlyStopping\n",
    "\n",
    "EarlyStopping(monitor='val_err', patience=5)\n",
    "#monitor denotes the quantity that needs to be monitored and ‘val_err’ denotes the validation error."
   ]
  },
  {
   "cell_type": "code",
   "execution_count": 31,
   "metadata": {},
   "outputs": [
    {
     "name": "stdout",
     "output_type": "stream",
     "text": [
      "Train on 55000 samples, validate on 10000 samples\n",
      "Epoch 1/1\n",
      "55000/55000 [==============================] - 2s 39us/step - loss: 0.1511 - acc: 0.9533 - val_loss: 0.1048 - val_acc: 0.9681\n"
     ]
    },
    {
     "data": {
      "text/plain": [
       "<keras.callbacks.History at 0x326530b70>"
      ]
     },
     "execution_count": 31,
     "metadata": {},
     "output_type": "execute_result"
    }
   ],
   "source": [
    "model.fit(train_xdata, train_labels, batch_size=batch_size, verbose=1, validation_data=(test_xdata, test_labels), \\\n",
    "                             callbacks = [EarlyStopping(monitor='val_acc', patience=2)])"
   ]
  },
  {
   "cell_type": "code",
   "execution_count": null,
   "metadata": {},
   "outputs": [],
   "source": []
  }
 ],
 "metadata": {
  "kernelspec": {
   "display_name": "Python 3",
   "language": "python",
   "name": "python3"
  },
  "language_info": {
   "codemirror_mode": {
    "name": "ipython",
    "version": 3
   },
   "file_extension": ".py",
   "mimetype": "text/x-python",
   "name": "python",
   "nbconvert_exporter": "python",
   "pygments_lexer": "ipython3",
   "version": "3.7.0"
  }
 },
 "nbformat": 4,
 "nbformat_minor": 2
}
