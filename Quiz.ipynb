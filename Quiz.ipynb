{
 "cells": [
  {
   "cell_type": "code",
   "execution_count": 2,
   "metadata": {},
   "outputs": [
    {
     "name": "stdout",
     "output_type": "stream",
     "text": [
      "3 plus 10 equals 13\n"
     ]
    }
   ],
   "source": [
    "def add_two_num(x,y):\n",
    "    t=x+y\n",
    "    return t\n",
    "\n",
    "z=add_two_num(x=3, y=10)\n",
    "\n",
    "\n",
    "x=3\n",
    "y=10\n",
    "print(\"{} plus {} equals {}\".format(x,y,z))      #R과 다르게 첫번째 vector가 0부터 시작."
   ]
  },
  {
   "cell_type": "code",
   "execution_count": 3,
   "metadata": {},
   "outputs": [
    {
     "data": {
      "text/plain": [
       "[1, 2, 3, 4, 5, 6, 7, 8, 9]"
      ]
     },
     "execution_count": 3,
     "metadata": {},
     "output_type": "execute_result"
    }
   ],
   "source": [
    "list(range(1, 10, 1))               #range type=range : list를 붙여야 함.\n",
    "\n",
    "# 1부터 10 바로 전까지(9) 1의 간격으로 나열."
   ]
  },
  {
   "cell_type": "code",
   "execution_count": 5,
   "metadata": {},
   "outputs": [
    {
     "data": {
      "text/plain": [
       "range(1, 11)"
      ]
     },
     "execution_count": 5,
     "metadata": {},
     "output_type": "execute_result"
    }
   ],
   "source": [
    "a = range(1, 10+1, 1)\n",
    "a"
   ]
  },
  {
   "cell_type": "code",
   "execution_count": 6,
   "metadata": {},
   "outputs": [
    {
     "data": {
      "text/plain": [
       "[1, 2, 3, 4, 5, 6, 7, 8, 9, 10]"
      ]
     },
     "execution_count": 6,
     "metadata": {},
     "output_type": "execute_result"
    }
   ],
   "source": [
    "list(a)"
   ]
  },
  {
   "cell_type": "code",
   "execution_count": 7,
   "metadata": {},
   "outputs": [
    {
     "name": "stdout",
     "output_type": "stream",
     "text": [
      "{'DarthVador': 'Father', 'Luke': 'Son', 'Leia': 'Daughter'}\n"
     ]
    }
   ],
   "source": [
    "mydict={\"DarthVador\":\"Father\",\"Luke\":\"Son\",\"Leia\":\"Daughter\"}\n",
    "print(mydict)"
   ]
  },
  {
   "cell_type": "code",
   "execution_count": 8,
   "metadata": {},
   "outputs": [
    {
     "name": "stdout",
     "output_type": "stream",
     "text": [
      "DarthVador\n",
      "Luke\n",
      "Leia\n"
     ]
    }
   ],
   "source": [
    "for a in mydict.keys():\n",
    "    print(a)"
   ]
  },
  {
   "cell_type": "code",
   "execution_count": 9,
   "metadata": {},
   "outputs": [
    {
     "name": "stdout",
     "output_type": "stream",
     "text": [
      "Father\n",
      "Son\n",
      "Daughter\n"
     ]
    }
   ],
   "source": [
    "for a in mydict.values():\n",
    "    print(a)"
   ]
  },
  {
   "cell_type": "code",
   "execution_count": 10,
   "metadata": {},
   "outputs": [
    {
     "name": "stdout",
     "output_type": "stream",
     "text": [
      "('DarthVador', 'Father')\n",
      "('Luke', 'Son')\n",
      "('Leia', 'Daughter')\n"
     ]
    }
   ],
   "source": [
    "for a in mydict.items():\n",
    "    print(a)"
   ]
  },
  {
   "cell_type": "code",
   "execution_count": 11,
   "metadata": {},
   "outputs": [
    {
     "data": {
      "text/plain": [
       "{'DarthVador': 'Father', 'Luke': 'Son', 'Leia': 'Daughter', 'Chewy': 'Monster'}"
      ]
     },
     "execution_count": 11,
     "metadata": {},
     "output_type": "execute_result"
    }
   ],
   "source": [
    "mydict2 = {\"Chewy\":\"Monster\", \"Leia\":\"Daughter\"}\n",
    "mydict.update(mydict2)\n",
    "mydict"
   ]
  },
  {
   "cell_type": "markdown",
   "metadata": {},
   "source": [
    "## List[ ], Tuple( )."
   ]
  },
  {
   "cell_type": "code",
   "execution_count": 13,
   "metadata": {},
   "outputs": [
    {
     "data": {
      "text/plain": [
       "[10, 2, 3]"
      ]
     },
     "execution_count": 13,
     "metadata": {},
     "output_type": "execute_result"
    }
   ],
   "source": [
    "mylist = [1,2,3]\n",
    "mytuple = (1,2,3)\n",
    "mylist[0]=10      #첫번째 값을 10으로 바꿈. tuple은 안됨.\n",
    "mylist"
   ]
  },
  {
   "cell_type": "code",
   "execution_count": 15,
   "metadata": {},
   "outputs": [
    {
     "data": {
      "text/plain": [
       "[1, 2, 3, 4, 5, 6, 7, 8, 9, 10]"
      ]
     },
     "execution_count": 15,
     "metadata": {},
     "output_type": "execute_result"
    }
   ],
   "source": [
    "list1 = list(range(1,11))\n",
    "list2 = list1\n",
    "list2"
   ]
  },
  {
   "cell_type": "code",
   "execution_count": 16,
   "metadata": {},
   "outputs": [
    {
     "data": {
      "text/plain": [
       "[100, 2, 3, 4, 5, 6, 7, 8, 9, 10]"
      ]
     },
     "execution_count": 16,
     "metadata": {},
     "output_type": "execute_result"
    }
   ],
   "source": [
    "list2[0]=100\n",
    "list1              #list2의 값만 바꿔도 list2=list1 때문에 값이 바뀐다."
   ]
  },
  {
   "cell_type": "code",
   "execution_count": 17,
   "metadata": {},
   "outputs": [
    {
     "data": {
      "text/plain": [
       "[200, 2, 3, 4, 5, 6, 7, 8, 9, 10]"
      ]
     },
     "execution_count": 17,
     "metadata": {},
     "output_type": "execute_result"
    }
   ],
   "source": [
    "list1 = list(range(1,11))     #list1 다시 설정.\n",
    "list3 = list1[:]       #list1의 내용물만 복사.\n",
    "list3[0]=200\n",
    "list3"
   ]
  },
  {
   "cell_type": "code",
   "execution_count": 18,
   "metadata": {},
   "outputs": [
    {
     "data": {
      "text/plain": [
       "[1, 2, 3, 4, 5, 6, 7, 8, 9, 10]"
      ]
     },
     "execution_count": 18,
     "metadata": {},
     "output_type": "execute_result"
    }
   ],
   "source": [
    "list1          #list3에 list1의 값만 복사했으므로 list1 자체는 변하지 않음."
   ]
  },
  {
   "cell_type": "code",
   "execution_count": 19,
   "metadata": {},
   "outputs": [
    {
     "data": {
      "text/plain": [
       "[1, 3, 5, 7, 9]"
      ]
     },
     "execution_count": 19,
     "metadata": {},
     "output_type": "execute_result"
    }
   ],
   "source": [
    "list(range(1,10, 2))"
   ]
  },
  {
   "cell_type": "code",
   "execution_count": 20,
   "metadata": {},
   "outputs": [
    {
     "data": {
      "text/plain": [
       "[1, 4, 7, 10]"
      ]
     },
     "execution_count": 20,
     "metadata": {},
     "output_type": "execute_result"
    }
   ],
   "source": [
    "list1[0:11:3]"
   ]
  },
  {
   "cell_type": "code",
   "execution_count": 22,
   "metadata": {},
   "outputs": [
    {
     "data": {
      "text/plain": [
       "[1, 2, 3, 4, 5, 100, 6, 7, 8, 9, 10]"
      ]
     },
     "execution_count": 22,
     "metadata": {},
     "output_type": "execute_result"
    }
   ],
   "source": [
    "list1 = list(range(1,11))\n",
    "\n",
    "# insert 100 btw 5,6\n",
    "list1[4:5]= [5,100]\n",
    "list1"
   ]
  },
  {
   "cell_type": "code",
   "execution_count": 23,
   "metadata": {},
   "outputs": [
    {
     "data": {
      "text/plain": [
       "5"
      ]
     },
     "execution_count": 23,
     "metadata": {},
     "output_type": "execute_result"
    }
   ],
   "source": [
    "list1[4]"
   ]
  },
  {
   "cell_type": "code",
   "execution_count": 24,
   "metadata": {},
   "outputs": [
    {
     "data": {
      "text/plain": [
       "[5]"
      ]
     },
     "execution_count": 24,
     "metadata": {},
     "output_type": "execute_result"
    }
   ],
   "source": [
    "list1[4:5]      #list1[4]와 같은 값을 가지지만 프린트 형태가 list이다."
   ]
  },
  {
   "cell_type": "code",
   "execution_count": 25,
   "metadata": {},
   "outputs": [
    {
     "data": {
      "text/plain": [
       "float"
      ]
     },
     "execution_count": 25,
     "metadata": {},
     "output_type": "execute_result"
    }
   ],
   "source": [
    "a=42.0\n",
    "type(a)            #42이면 integer."
   ]
  },
  {
   "cell_type": "code",
   "execution_count": 26,
   "metadata": {},
   "outputs": [
    {
     "data": {
      "text/plain": [
       "[3, 444, 5]"
      ]
     },
     "execution_count": 26,
     "metadata": {},
     "output_type": "execute_result"
    }
   ],
   "source": [
    "list1 = [1,3,5,7]\n",
    "list1[1:2] + [444] + list1[2:3]        #1번째, 2번째 elements꺼내줌."
   ]
  },
  {
   "cell_type": "code",
   "execution_count": 27,
   "metadata": {},
   "outputs": [
    {
     "data": {
      "text/plain": [
       "True"
      ]
     },
     "execution_count": 27,
     "metadata": {},
     "output_type": "execute_result"
    }
   ],
   "source": [
    "list2=[1,3,5,7]\n",
    "list1==list2         #값만 같으면 True."
   ]
  },
  {
   "cell_type": "code",
   "execution_count": 28,
   "metadata": {},
   "outputs": [
    {
     "data": {
      "text/plain": [
       "False"
      ]
     },
     "execution_count": 28,
     "metadata": {},
     "output_type": "execute_result"
    }
   ],
   "source": [
    "list1 is list2"
   ]
  },
  {
   "cell_type": "markdown",
   "metadata": {},
   "source": [
    "# Numpy packages\n",
    "#install.packages(\"numpy\")\n",
    "#library(numpy)"
   ]
  },
  {
   "cell_type": "code",
   "execution_count": 37,
   "metadata": {},
   "outputs": [],
   "source": [
    "import numpy as np"
   ]
  },
  {
   "cell_type": "code",
   "execution_count": 35,
   "metadata": {},
   "outputs": [
    {
     "data": {
      "text/plain": [
       "array([1, 2, 3])"
      ]
     },
     "execution_count": 35,
     "metadata": {},
     "output_type": "execute_result"
    }
   ],
   "source": [
    "a = [1,2,3]\n",
    "b = np.array([1,2,3])\n",
    "b"
   ]
  },
  {
   "cell_type": "code",
   "execution_count": 36,
   "metadata": {},
   "outputs": [
    {
     "data": {
      "text/plain": [
       "array([2, 4, 6])"
      ]
     },
     "execution_count": 36,
     "metadata": {},
     "output_type": "execute_result"
    }
   ],
   "source": [
    "b+a"
   ]
  },
  {
   "cell_type": "code",
   "execution_count": 38,
   "metadata": {},
   "outputs": [
    {
     "data": {
      "text/plain": [
       "array([1., 2., 3., 4.], dtype=float16)"
      ]
     },
     "execution_count": 38,
     "metadata": {},
     "output_type": "execute_result"
    }
   ],
   "source": [
    "np.array([1.0, 2.0, 3.0, 4.0], dtype = \"float16\")"
   ]
  },
  {
   "cell_type": "code",
   "execution_count": 39,
   "metadata": {},
   "outputs": [
    {
     "data": {
      "text/plain": [
       "array([  1,   4,   9,  16,  25,  36,  49,  64,  81, 100])"
      ]
     },
     "execution_count": 39,
     "metadata": {},
     "output_type": "execute_result"
    }
   ],
   "source": [
    "a = np.array( [i**2 for i in range(1,11)] )       # 1부터 10까지 제곱해서 출력. list가 array로 변한 것.\n",
    "a"
   ]
  },
  {
   "cell_type": "code",
   "execution_count": 40,
   "metadata": {},
   "outputs": [
    {
     "data": {
      "text/plain": [
       "array([[  1,   1],\n",
       "       [  2,   4],\n",
       "       [  3,   9],\n",
       "       [  4,  16],\n",
       "       [  5,  25],\n",
       "       [  6,  36],\n",
       "       [  7,  49],\n",
       "       [  8,  64],\n",
       "       [  9,  81],\n",
       "       [ 10, 100]])"
      ]
     },
     "execution_count": 40,
     "metadata": {},
     "output_type": "execute_result"
    }
   ],
   "source": [
    "b = np.array( [[i, i**2] for i in range(1,11)] )       # (1,1)의 행렬.\n",
    "b"
   ]
  },
  {
   "cell_type": "code",
   "execution_count": 41,
   "metadata": {},
   "outputs": [
    {
     "data": {
      "text/plain": [
       "array([[  1,  10],\n",
       "       [  2, 100]])"
      ]
     },
     "execution_count": 41,
     "metadata": {},
     "output_type": "execute_result"
    }
   ],
   "source": [
    "a = [[1,10], [2,100]]\n",
    "b = np.array(a)\n",
    "b"
   ]
  },
  {
   "cell_type": "code",
   "execution_count": 42,
   "metadata": {},
   "outputs": [
    {
     "data": {
      "text/plain": [
       "array([[1, 1, 1],\n",
       "       [1, 1, 1],\n",
       "       [1, 1, 1]])"
      ]
     },
     "execution_count": 42,
     "metadata": {},
     "output_type": "execute_result"
    }
   ],
   "source": [
    "np.ones([3,3], dtype=int)         #3*3 array"
   ]
  },
  {
   "cell_type": "code",
   "execution_count": 43,
   "metadata": {},
   "outputs": [
    {
     "data": {
      "text/plain": [
       "[1, 3, 5, 7, 9]"
      ]
     },
     "execution_count": 43,
     "metadata": {},
     "output_type": "execute_result"
    }
   ],
   "source": [
    "list(range(1,11,2))"
   ]
  },
  {
   "cell_type": "code",
   "execution_count": 44,
   "metadata": {},
   "outputs": [
    {
     "data": {
      "text/plain": [
       "array([1, 3, 5, 7, 9])"
      ]
     },
     "execution_count": 44,
     "metadata": {},
     "output_type": "execute_result"
    }
   ],
   "source": [
    "np.arange(1,11,2)              # 위에서 list로 주는 것과 같은 결과. 단지 array의 형태."
   ]
  },
  {
   "cell_type": "code",
   "execution_count": 46,
   "metadata": {},
   "outputs": [
    {
     "data": {
      "text/plain": [
       "array([1, 3, 5, 7, 9])"
      ]
     },
     "execution_count": 46,
     "metadata": {},
     "output_type": "execute_result"
    }
   ],
   "source": [
    "np.arange(1,11,2)"
   ]
  },
  {
   "cell_type": "code",
   "execution_count": 47,
   "metadata": {},
   "outputs": [
    {
     "data": {
      "text/plain": [
       "array([[500, 500, 500],\n",
       "       [500, 500, 500],\n",
       "       [500, 500, 500]])"
      ]
     },
     "execution_count": 47,
     "metadata": {},
     "output_type": "execute_result"
    }
   ],
   "source": [
    "np.full([3,3], 500)           # 특정한 숫자로 가득 채워넣기."
   ]
  },
  {
   "cell_type": "code",
   "execution_count": 48,
   "metadata": {},
   "outputs": [
    {
     "data": {
      "text/plain": [
       "array([[0.73873631, 0.32515825, 0.83869452],\n",
       "       [0.97227698, 0.09843556, 0.72610782],\n",
       "       [0.58062685, 0.00434596, 0.79413425]])"
      ]
     },
     "execution_count": 48,
     "metadata": {},
     "output_type": "execute_result"
    }
   ],
   "source": [
    "#### np.random.random ####\n",
    "\n",
    "np.random.random([3,3])\n",
    "#np.random.random((3,3) 이렇게 주면 list형태가 아니라 tuple형태. 수정이 안됨."
   ]
  },
  {
   "cell_type": "code",
   "execution_count": 49,
   "metadata": {},
   "outputs": [
    {
     "data": {
      "text/plain": [
       "array([[ 3.91542036, 11.09438643, -5.50182877],\n",
       "       [12.34330804,  1.66278482,  0.29624512],\n",
       "       [-6.15853214,  8.62208756,  4.1231823 ]])"
      ]
     },
     "execution_count": 49,
     "metadata": {},
     "output_type": "execute_result"
    }
   ],
   "source": [
    "np.random.normal(loc=0.0, scale=10.00, size=(3,3))"
   ]
  },
  {
   "cell_type": "code",
   "execution_count": 50,
   "metadata": {},
   "outputs": [
    {
     "data": {
      "text/plain": [
       "array([[1., 0., 0.],\n",
       "       [0., 1., 0.],\n",
       "       [0., 0., 1.]])"
      ]
     },
     "execution_count": 50,
     "metadata": {},
     "output_type": "execute_result"
    }
   ],
   "source": [
    "np.eye(3)        # I-matrix"
   ]
  },
  {
   "cell_type": "code",
   "execution_count": 51,
   "metadata": {},
   "outputs": [
    {
     "data": {
      "text/plain": [
       "array([1.49166815e-154, 1.49166815e-154, 8.39911598e-323, 0.00000000e+000,\n",
       "       0.00000000e+000, 0.00000000e+000, 0.00000000e+000, 0.00000000e+000,\n",
       "       0.00000000e+000, 0.00000000e+000])"
      ]
     },
     "execution_count": 51,
     "metadata": {},
     "output_type": "execute_result"
    }
   ],
   "source": [
    "np.empty(10)           #empty라고 쓰지만 공간을 null로 만드는 게 아니라 그만큼의 공간을 확보하라는 뜻."
   ]
  },
  {
   "cell_type": "code",
   "execution_count": 54,
   "metadata": {},
   "outputs": [],
   "source": [
    "a = np.array([1,3,5])"
   ]
  },
  {
   "cell_type": "code",
   "execution_count": 55,
   "metadata": {},
   "outputs": [
    {
     "data": {
      "text/plain": [
       "array([4, 6, 8])"
      ]
     },
     "execution_count": 55,
     "metadata": {},
     "output_type": "execute_result"
    }
   ],
   "source": [
    "a+3"
   ]
  },
  {
   "cell_type": "code",
   "execution_count": 56,
   "metadata": {},
   "outputs": [
    {
     "data": {
      "text/plain": [
       "[1, 3, 5, 1, 3, 5]"
      ]
     },
     "execution_count": 56,
     "metadata": {},
     "output_type": "execute_result"
    }
   ],
   "source": [
    "[1,3,5]*2      # 두번 반복.\n",
    "               # a*2 하면 array 원소에 2 곱한 것."
   ]
  },
  {
   "cell_type": "code",
   "execution_count": 58,
   "metadata": {},
   "outputs": [
    {
     "data": {
      "text/plain": [
       "array([7, 0, 8, 2, 2, 0])"
      ]
     },
     "execution_count": 58,
     "metadata": {},
     "output_type": "execute_result"
    }
   ],
   "source": [
    "#set.seed(500)\n",
    "np.random.seed(593)\n",
    "x1=np.random.randint(10, size=6)          #10 바로 전인 9 까지만 나온다.\n",
    "x1"
   ]
  },
  {
   "cell_type": "code",
   "execution_count": 59,
   "metadata": {},
   "outputs": [
    {
     "data": {
      "text/plain": [
       "array([[[7, 0],\n",
       "        [8, 2]],\n",
       "\n",
       "       [[2, 0],\n",
       "        [1, 4]]])"
      ]
     },
     "execution_count": 59,
     "metadata": {},
     "output_type": "execute_result"
    }
   ],
   "source": [
    "np.random.seed(593)\n",
    "x1=np.random.randint(10, size=[2,2,2]) \n",
    "x1"
   ]
  },
  {
   "cell_type": "code",
   "execution_count": 61,
   "metadata": {},
   "outputs": [
    {
     "data": {
      "text/plain": [
       "array([[[7, 0],\n",
       "        [8, 2],\n",
       "        [2, 0]],\n",
       "\n",
       "       [[1, 4],\n",
       "        [7, 0],\n",
       "        [2, 4]]])"
      ]
     },
     "execution_count": 61,
     "metadata": {},
     "output_type": "execute_result"
    }
   ],
   "source": [
    "np.random.seed(593)\n",
    "x1=np.random.randint(10, size=[2,3,2])      # 원소 2개짜리를 3개 만들고, 그것을 2번 반복.\n",
    "x1"
   ]
  },
  {
   "cell_type": "code",
   "execution_count": 62,
   "metadata": {},
   "outputs": [
    {
     "data": {
      "text/plain": [
       "12"
      ]
     },
     "execution_count": 62,
     "metadata": {},
     "output_type": "execute_result"
    }
   ],
   "source": [
    "x1.size"
   ]
  },
  {
   "cell_type": "code",
   "execution_count": 63,
   "metadata": {},
   "outputs": [
    {
     "data": {
      "text/plain": [
       "3"
      ]
     },
     "execution_count": 63,
     "metadata": {},
     "output_type": "execute_result"
    }
   ],
   "source": [
    "x1.ndim        #dimension=3, 길이는 총 12개."
   ]
  },
  {
   "cell_type": "code",
   "execution_count": 65,
   "metadata": {},
   "outputs": [],
   "source": [
    "x=np.random.randint(10, size=[3,3])\n",
    "m = x[1:2, :]      # 2번째 row의 모든 column 출력\n",
    "v = x[1, :]"
   ]
  },
  {
   "cell_type": "markdown",
   "metadata": {},
   "source": [
    "# Array Slicing: Accessing Subarrays\n",
    "- x[start:stop:step]"
   ]
  },
  {
   "cell_type": "code",
   "execution_count": 67,
   "metadata": {},
   "outputs": [
    {
     "data": {
      "text/plain": [
       "array([[8, 9, 1],\n",
       "       [2, 9, 2],\n",
       "       [6, 6, 4]])"
      ]
     },
     "execution_count": 67,
     "metadata": {},
     "output_type": "execute_result"
    }
   ],
   "source": [
    "x"
   ]
  },
  {
   "cell_type": "code",
   "execution_count": 68,
   "metadata": {},
   "outputs": [
    {
     "data": {
      "text/plain": [
       "array([[2, 9, 2]])"
      ]
     },
     "execution_count": 68,
     "metadata": {},
     "output_type": "execute_result"
    }
   ],
   "source": [
    "m      # 2번째 row의 모든 column 출력"
   ]
  },
  {
   "cell_type": "code",
   "execution_count": 69,
   "metadata": {},
   "outputs": [
    {
     "data": {
      "text/plain": [
       "array([2, 9, 2])"
      ]
     },
     "execution_count": 69,
     "metadata": {},
     "output_type": "execute_result"
    }
   ],
   "source": [
    "v      # 2번째 row의 모든 column 출력 (m과 동일)"
   ]
  },
  {
   "cell_type": "code",
   "execution_count": 70,
   "metadata": {},
   "outputs": [
    {
     "name": "stdout",
     "output_type": "stream",
     "text": [
      "(1, 3) 2\n"
     ]
    }
   ],
   "source": [
    "print(m.shape, m.ndim)         # array안에 (1,3) array가 들어있는 것(2차원)"
   ]
  },
  {
   "cell_type": "code",
   "execution_count": 71,
   "metadata": {},
   "outputs": [
    {
     "name": "stdout",
     "output_type": "stream",
     "text": [
      "(3,) 1\n"
     ]
    }
   ],
   "source": [
    "print(v.shape, v.ndim)      # (0,1,2)번째 원소 중에서 1번째 원소 추출(1차원)"
   ]
  },
  {
   "cell_type": "code",
   "execution_count": 72,
   "metadata": {},
   "outputs": [
    {
     "data": {
      "text/plain": [
       "array([[8, 9],\n",
       "       [2, 9]])"
      ]
     },
     "execution_count": 72,
     "metadata": {},
     "output_type": "execute_result"
    }
   ],
   "source": [
    "x[:2, :2]         # 2번째 row까지, 2번째 column까지 출력."
   ]
  },
  {
   "cell_type": "code",
   "execution_count": 74,
   "metadata": {},
   "outputs": [
    {
     "data": {
      "text/plain": [
       "array([[8, 9, 1],\n",
       "       [2, 9, 2],\n",
       "       [6, 6, 4]])"
      ]
     },
     "execution_count": 74,
     "metadata": {},
     "output_type": "execute_result"
    }
   ],
   "source": [
    "x4 = x[:,:]\n",
    "x4"
   ]
  },
  {
   "cell_type": "code",
   "execution_count": 75,
   "metadata": {},
   "outputs": [
    {
     "data": {
      "text/plain": [
       "False"
      ]
     },
     "execution_count": 75,
     "metadata": {},
     "output_type": "execute_result"
    }
   ],
   "source": [
    "x is x4"
   ]
  },
  {
   "cell_type": "code",
   "execution_count": 77,
   "metadata": {},
   "outputs": [
    {
     "data": {
      "text/plain": [
       "array([8, 9, 1])"
      ]
     },
     "execution_count": 77,
     "metadata": {},
     "output_type": "execute_result"
    }
   ],
   "source": [
    "x5 = x[0, :]\n",
    "x5             # 첫번째 행의 모든 열 출력."
   ]
  },
  {
   "cell_type": "code",
   "execution_count": 78,
   "metadata": {},
   "outputs": [
    {
     "data": {
      "text/plain": [
       "array([[8, 9, 1]])"
      ]
     },
     "execution_count": 78,
     "metadata": {},
     "output_type": "execute_result"
    }
   ],
   "source": [
    "x5.reshape([1,3])      # 2차원 생성"
   ]
  },
  {
   "cell_type": "code",
   "execution_count": 79,
   "metadata": {},
   "outputs": [
    {
     "data": {
      "text/plain": [
       "1"
      ]
     },
     "execution_count": 79,
     "metadata": {},
     "output_type": "execute_result"
    }
   ],
   "source": [
    "x5.ndim        # reshape한 것은 저장되지 않음."
   ]
  },
  {
   "cell_type": "code",
   "execution_count": 80,
   "metadata": {},
   "outputs": [
    {
     "data": {
      "text/plain": [
       "array([[8],\n",
       "       [9],\n",
       "       [1]])"
      ]
     },
     "execution_count": 80,
     "metadata": {},
     "output_type": "execute_result"
    }
   ],
   "source": [
    "x5.reshape([3,1])      # 3행 1열로 생성."
   ]
  },
  {
   "cell_type": "code",
   "execution_count": 81,
   "metadata": {},
   "outputs": [
    {
     "data": {
      "text/plain": [
       "2"
      ]
     },
     "execution_count": 81,
     "metadata": {},
     "output_type": "execute_result"
    }
   ],
   "source": [
    "x5.reshape([3,1]).ndim      #reshape한 것은 2차원."
   ]
  },
  {
   "cell_type": "code",
   "execution_count": 84,
   "metadata": {},
   "outputs": [
    {
     "data": {
      "text/plain": [
       "array([8, 9, 1])"
      ]
     },
     "execution_count": 84,
     "metadata": {},
     "output_type": "execute_result"
    }
   ],
   "source": [
    "x5"
   ]
  },
  {
   "cell_type": "code",
   "execution_count": 83,
   "metadata": {},
   "outputs": [
    {
     "data": {
      "text/plain": [
       "array([[8, 9, 1]])"
      ]
     },
     "execution_count": 83,
     "metadata": {},
     "output_type": "execute_result"
    }
   ],
   "source": [
    "x5[np.newaxis, :]"
   ]
  },
  {
   "cell_type": "markdown",
   "metadata": {},
   "source": [
    "## 손글씨"
   ]
  },
  {
   "cell_type": "code",
   "execution_count": 87,
   "metadata": {},
   "outputs": [],
   "source": [
    "## 손글씨 불러오기.\n",
    "\n",
    "import numpy as np\n",
    "import matplotlib as mpl\n",
    "import matplotlib.pyplot as plt\n",
    "\n",
    "from sklearn.datasets import load_digits\n",
    "digits=load_digits(n_class=6)"
   ]
  },
  {
   "cell_type": "code",
   "execution_count": 88,
   "metadata": {},
   "outputs": [
    {
     "data": {
      "text/plain": [
       "<matplotlib.image.AxesImage at 0x1a1993f518>"
      ]
     },
     "execution_count": 88,
     "metadata": {},
     "output_type": "execute_result"
    },
    {
     "data": {
      "image/png": "[encoded data removed]",
      "text/plain": [
       "<Figure size 432x288 with 1 Axes>"
      ]
     },
     "metadata": {
      "needs_background": "light"
     },
     "output_type": "display_data"
    }
   ],
   "source": [
    "plt.imshow(digits.images[0], cmap='binary') "
   ]
  },
  {
   "cell_type": "code",
   "execution_count": 89,
   "metadata": {},
   "outputs": [
    {
     "data": {
      "text/plain": [
       "<matplotlib.image.AxesImage at 0x1a198562b0>"
      ]
     },
     "execution_count": 89,
     "metadata": {},
     "output_type": "execute_result"
    },
    {
     "data": {
      "image/png": "[encoded data removed]",
      "text/plain": [
       "<Figure size 432x288 with 1 Axes>"
      ]
     },
     "metadata": {
      "needs_background": "light"
     },
     "output_type": "display_data"
    }
   ],
   "source": [
    "plt.imshow(digits.images[2], cmap='binary')     #2인 손글씨 불러오기."
   ]
  },
  {
   "cell_type": "markdown",
   "metadata": {},
   "source": [
    "## tensorflow"
   ]
  },
  {
   "cell_type": "code",
   "execution_count": 93,
   "metadata": {},
   "outputs": [
    {
     "data": {
      "text/plain": [
       "b'hello'"
      ]
     },
     "execution_count": 93,
     "metadata": {},
     "output_type": "execute_result"
    }
   ],
   "source": [
    "# session 만들어서 tensorflow 러닝시키기.\n",
    "# tf.constant\n",
    "import numpy as np\n",
    "import tensorflow as tf\n",
    "\n",
    "hello = tf.constant(\"hello\")\n",
    "sess = tf.Session()\n",
    "sess.run(hello)"
   ]
  },
  {
   "cell_type": "code",
   "execution_count": 94,
   "metadata": {},
   "outputs": [
    {
     "data": {
      "text/plain": [
       "7"
      ]
     },
     "execution_count": 94,
     "metadata": {},
     "output_type": "execute_result"
    }
   ],
   "source": [
    "b = tf.constant(3)\n",
    "c = tf.constant(4)\n",
    "sess.run(c+b)          # 그냥 b+c는 껍데기이므로 실행 안됨."
   ]
  },
  {
   "cell_type": "code",
   "execution_count": 105,
   "metadata": {},
   "outputs": [
    {
     "data": {
      "text/plain": [
       "array([[10, 10, 10, 10],\n",
       "       [10, 10, 10, 10],\n",
       "       [10, 10, 10, 10],\n",
       "       [10, 10, 10, 10]], dtype=int32)"
      ]
     },
     "execution_count": 105,
     "metadata": {},
     "output_type": "execute_result"
    }
   ],
   "source": [
    "a = tf.fill((4,4),10)    # Creates a tensor filled with a scalar value.\n",
    "sess.run(a)            #numpy역할과 비슷"
   ]
  },
  {
   "cell_type": "code",
   "execution_count": 106,
   "metadata": {},
   "outputs": [
    {
     "data": {
      "text/plain": [
       "array([[-0.7365575 , -0.0266318 ,  0.5155332 ,  0.5603634 ],\n",
       "       [-0.1761633 , -0.22845687, -1.1075873 , -1.1484389 ],\n",
       "       [-0.71956545, -0.8686692 , -0.79614615, -0.04510174],\n",
       "       [-0.577512  ,  0.10458686,  0.1762641 ,  2.0853257 ]],\n",
       "      dtype=float32)"
      ]
     },
     "execution_count": 106,
     "metadata": {},
     "output_type": "execute_result"
    }
   ],
   "source": [
    "c = tf.random_normal((4,4), mean=0, stddev=1.0)\n",
    "sess.run(c)\n"
   ]
  },
  {
   "cell_type": "code",
   "execution_count": 97,
   "metadata": {},
   "outputs": [],
   "source": [
    "a = tf.placeholder(\"float\")\n",
    "b = tf.placeholder(\"float\")\n",
    "y=tf.multiply(a,b)"
   ]
  },
  {
   "cell_type": "code",
   "execution_count": 98,
   "metadata": {},
   "outputs": [
    {
     "name": "stdout",
     "output_type": "stream",
     "text": [
      "9.0\n"
     ]
    }
   ],
   "source": [
    "print(  sess.run(y, feed_dict={a:3, b:3}) )             # feeding"
   ]
  },
  {
   "cell_type": "code",
   "execution_count": 99,
   "metadata": {},
   "outputs": [],
   "source": [
    "## for문을 사용하여 한번에 출력하기"
   ]
  },
  {
   "cell_type": "code",
   "execution_count": 107,
   "metadata": {},
   "outputs": [
    {
     "data": {
      "text/plain": [
       "array([[0., 0., 0., 0.],\n",
       "       [0., 0., 0., 0.],\n",
       "       [0., 0., 0., 0.],\n",
       "       [0., 0., 0., 0.]], dtype=float32)"
      ]
     },
     "execution_count": 107,
     "metadata": {},
     "output_type": "execute_result"
    }
   ],
   "source": [
    "b=tf.zeros((4,4))\n",
    "sess.run(b)\n"
   ]
  },
  {
   "cell_type": "code",
   "execution_count": 108,
   "metadata": {},
   "outputs": [
    {
     "name": "stdout",
     "output_type": "stream",
     "text": [
      "[[10 10 10 10]\n",
      " [10 10 10 10]\n",
      " [10 10 10 10]\n",
      " [10 10 10 10]]\n",
      "[[0. 0. 0. 0.]\n",
      " [0. 0. 0. 0.]\n",
      " [0. 0. 0. 0.]\n",
      " [0. 0. 0. 0.]]\n",
      "[[-0.3710237   0.22166757 -1.1594926   2.4200768 ]\n",
      " [-0.59852695  0.16437614 -0.64781135  0.09403031]\n",
      " [-0.4146616  -0.5844314  -0.5761367   0.83094937]\n",
      " [ 0.23841184 -0.03117723  1.3649052  -1.6682422 ]]\n"
     ]
    }
   ],
   "source": [
    "my_ops=[a,b,c]\n",
    "for op in my_ops:\n",
    "    print(sess.run(op))"
   ]
  },
  {
   "cell_type": "code",
   "execution_count": 109,
   "metadata": {},
   "outputs": [],
   "source": [
    "a1=tf.constant( [ [1,2], \n",
    "                [3,4]])  #2*2\n",
    "b1=tf.constant( [[10], \n",
    "                 [100]]) #2*1"
   ]
  },
  {
   "cell_type": "code",
   "execution_count": 111,
   "metadata": {},
   "outputs": [
    {
     "data": {
      "text/plain": [
       "array([[1, 2],\n",
       "       [3, 4]], dtype=int32)"
      ]
     },
     "execution_count": 111,
     "metadata": {},
     "output_type": "execute_result"
    }
   ],
   "source": [
    "sess.run(a1)"
   ]
  },
  {
   "cell_type": "code",
   "execution_count": 112,
   "metadata": {},
   "outputs": [
    {
     "data": {
      "text/plain": [
       "array([[ 10],\n",
       "       [100]], dtype=int32)"
      ]
     },
     "execution_count": 112,
     "metadata": {},
     "output_type": "execute_result"
    }
   ],
   "source": [
    "sess.run(b1)"
   ]
  },
  {
   "cell_type": "code",
   "execution_count": 113,
   "metadata": {},
   "outputs": [
    {
     "data": {
      "text/plain": [
       "array([[210],\n",
       "       [430]], dtype=int32)"
      ]
     },
     "execution_count": 113,
     "metadata": {},
     "output_type": "execute_result"
    }
   ],
   "source": [
    "result1=tf.matmul(a1,b1)\n",
    "sess.run(result1)       #2*1 "
   ]
  },
  {
   "cell_type": "code",
   "execution_count": 114,
   "metadata": {},
   "outputs": [
    {
     "name": "stdout",
     "output_type": "stream",
     "text": [
      "[[210]\n",
      " [430]]\n"
     ]
    }
   ],
   "source": [
    "#그냥 result1.eval() -> 오류남\n",
    "# Using `Tensor.eval()`.\n",
    "with tf.Session():\n",
    "  print(result1.eval())"
   ]
  },
  {
   "cell_type": "code",
   "execution_count": 115,
   "metadata": {},
   "outputs": [
    {
     "data": {
      "text/plain": [
       "'             initialized!!!\\n    f(x)\\n    R: optim(f, par=0.19) 에서 par처럼 이니셜 포인트를 줘야(이니셜라이즈를 해야) 함.\\n    '"
      ]
     },
     "execution_count": 115,
     "metadata": {},
     "output_type": "execute_result"
    }
   ],
   "source": [
    "# Placeholder: 처음에는 empty였다가 --> feed during training (트레이닝할 때마다 declare)\n",
    "# Variables: tuned during training\n",
    "'''             initialized!!!\n",
    "    f(x)\n",
    "    R: optim(f, par=0.19) 에서 par처럼 이니셜 포인트를 줘야(이니셜라이즈를 해야) 함.\n",
    "    '''"
   ]
  },
  {
   "cell_type": "code",
   "execution_count": 116,
   "metadata": {},
   "outputs": [
    {
     "data": {
      "text/plain": [
       "array([[0.23453152, 0.760726  , 0.4400233 , 0.67162716],\n",
       "       [0.18232775, 0.92740095, 0.78628254, 0.98891914],\n",
       "       [0.10818076, 0.4047854 , 0.8626611 , 0.7948675 ],\n",
       "       [0.30727923, 0.7485982 , 0.59998345, 0.08752263]], dtype=float32)"
      ]
     },
     "execution_count": 116,
     "metadata": {},
     "output_type": "execute_result"
    }
   ],
   "source": [
    "my_temp=tf.random_uniform((4,4),0,1)\n",
    "sess=tf.Session()\n",
    "sess.run(my_temp) #check"
   ]
  },
  {
   "cell_type": "code",
   "execution_count": 117,
   "metadata": {},
   "outputs": [],
   "source": [
    "my_var=tf.Variable(initial_value=my_temp)"
   ]
  },
  {
   "cell_type": "code",
   "execution_count": 118,
   "metadata": {},
   "outputs": [
    {
     "data": {
      "text/plain": [
       "array([[0.6413913 , 0.8485999 , 0.2675792 , 0.9301996 ],\n",
       "       [0.40530777, 0.05491507, 0.35130084, 0.32466972],\n",
       "       [0.59285104, 0.83062625, 0.4824736 , 0.5535815 ],\n",
       "       [0.2870903 , 0.31004572, 0.89612377, 0.03482187]], dtype=float32)"
      ]
     },
     "execution_count": 118,
     "metadata": {},
     "output_type": "execute_result"
    }
   ],
   "source": [
    "#sess.run(my_var)  => error. 이니셜라이제이션이 필요하다.\n",
    "## tf.global_variables_initializer()    #### 모든 value들이 초기화\n",
    "\n",
    "init = tf.global_variables_initializer()     \n",
    "sess.run(init)\n",
    "sess.run(my_var)  # now, it's ready to optimize"
   ]
  },
  {
   "cell_type": "markdown",
   "metadata": {},
   "source": [
    "- tf.placeholder: 변수선언"
   ]
  },
  {
   "cell_type": "code",
   "execution_count": 119,
   "metadata": {},
   "outputs": [
    {
     "data": {
      "text/plain": [
       "30.0"
      ]
     },
     "execution_count": 119,
     "metadata": {},
     "output_type": "execute_result"
    }
   ],
   "source": [
    "a=tf.placeholder(tf.float32)\n",
    "b=tf.placeholder(tf.float32)\n",
    "c=a+b\n",
    "sess=tf.Session()\n",
    "sess.run(c, feed_dict={a:10, b:20} )          #feed_dict 필요 !!!! \n",
    "\n",
    "#dictionary : my_dict = {\"aa\":[3], \"bb\":[7]}의 형태"
   ]
  },
  {
   "cell_type": "markdown",
   "metadata": {},
   "source": [
    "# logistic regression & neural network"
   ]
  },
  {
   "cell_type": "markdown",
   "metadata": {},
   "source": [
    "# logistic regression"
   ]
  },
  {
   "cell_type": "code",
   "execution_count": 120,
   "metadata": {},
   "outputs": [],
   "source": [
    "from sklearn import datasets"
   ]
  },
  {
   "cell_type": "code",
   "execution_count": 135,
   "metadata": {},
   "outputs": [],
   "source": [
    "N=300\n",
    "X, y=datasets.make_moons(N, noise=0.3) \n",
    "#Make two interleaving half circles"
   ]
  },
  {
   "cell_type": "code",
   "execution_count": 136,
   "metadata": {},
   "outputs": [
    {
     "data": {
      "text/plain": [
       "array([[ 1.26013696e+00, -2.81592913e-01],\n",
       "       [ 1.48115094e+00, -6.10589002e-01],\n",
       "       [ 9.92191677e-01, -2.52932298e-02],\n",
       "       [ 6.44761769e-01,  1.12726889e+00],\n",
       "       [-1.24350757e+00,  2.30573345e-01],\n",
       "       [ 1.12158269e+00, -3.31094663e-02],\n",
       "       [ 9.46728152e-01,  2.44562804e-01],\n",
       "       [ 7.16135499e-01, -5.88431980e-01],\n",
       "       [-8.36827846e-01,  6.94079363e-01],\n",
       "       [ 2.05905188e+00, -4.14851874e-04],\n",
       "       [ 1.35892631e+00, -7.28209869e-01],\n",
       "       [ 1.85235516e+00, -3.74020097e-02],\n",
       "       [-6.85441568e-01,  4.43391146e-01],\n",
       "       [ 2.10328611e+00,  3.93976235e-01],\n",
       "       [-8.80230950e-01,  1.09413181e+00],\n",
       "       [-7.76580287e-01,  1.30664497e+00],\n",
       "       [-6.33159852e-01, -5.54491905e-02],\n",
       "       [ 1.55830325e+00, -3.46912394e-01],\n",
       "       [-1.82171815e-01,  4.08669023e-01],\n",
       "       [ 1.48765748e+00, -5.18806440e-01],\n",
       "       [-2.89272825e-01,  5.93616828e-01],\n",
       "       [ 1.20491648e+00, -1.72201053e-01],\n",
       "       [ 1.87118869e+00,  1.37612868e-01],\n",
       "       [ 3.02263272e-01,  6.75230185e-01],\n",
       "       [-1.40747860e+00,  2.56714741e-01],\n",
       "       [ 6.54354874e-01, -1.25887932e-01],\n",
       "       [ 1.42146203e-01,  1.64617811e-01],\n",
       "       [ 2.30139607e+00,  4.46735853e-01],\n",
       "       [ 1.47944612e+00,  1.97306062e-01],\n",
       "       [ 4.00092879e-01, -1.68197288e-01],\n",
       "       [-6.46323030e-01,  3.69399237e-01],\n",
       "       [ 5.61227941e-01,  8.39935941e-01],\n",
       "       [ 4.36377940e-01, -7.35156148e-01],\n",
       "       [ 5.12818100e-01,  1.07132614e+00],\n",
       "       [ 8.89469726e-01,  1.04972649e+00],\n",
       "       [ 4.84881900e-01,  6.94083678e-01],\n",
       "       [ 4.57562590e-01,  5.52470847e-01],\n",
       "       [-4.59251958e-01,  3.16925920e-01],\n",
       "       [ 1.07667981e+00, -2.88211357e-02],\n",
       "       [ 1.07239804e+00, -2.25892186e-01],\n",
       "       [-9.99603583e-01,  3.62864694e-01],\n",
       "       [-1.27713255e-01, -1.78843590e-01],\n",
       "       [ 1.53735802e-02,  6.91566052e-01],\n",
       "       [-2.38168679e-01,  9.95089796e-01],\n",
       "       [-1.32126286e+00,  8.57627601e-02],\n",
       "       [-8.38439619e-01,  1.03563618e+00],\n",
       "       [ 1.04494042e+00,  8.39586183e-01],\n",
       "       [ 3.75511393e-01,  1.04777680e+00],\n",
       "       [ 2.47246151e-01,  1.18805784e+00],\n",
       "       [ 8.75047276e-04,  1.45383162e+00],\n",
       "       [-5.15627085e-01,  1.05072783e+00],\n",
       "       [-1.86976909e-01,  2.58515782e-01],\n",
       "       [-8.51167167e-01,  3.30176357e-01],\n",
       "       [ 7.20425144e-02, -4.02252407e-01],\n",
       "       [-8.83531116e-01,  3.55885150e-01],\n",
       "       [-3.50279607e-01,  3.34746055e-01],\n",
       "       [-9.73745879e-01,  5.28048437e-01],\n",
       "       [ 7.73073772e-01, -4.23931698e-01],\n",
       "       [ 1.57708349e+00, -3.80927962e-01],\n",
       "       [ 1.10239080e+00, -5.98417856e-01],\n",
       "       [-1.09569999e+00,  5.98808309e-01],\n",
       "       [-1.00454239e+00,  1.22293577e+00],\n",
       "       [ 6.78259463e-01,  9.68458912e-01],\n",
       "       [ 1.25966833e+00, -6.42876441e-01],\n",
       "       [-1.73055634e-02, -8.74156414e-01],\n",
       "       [ 5.01751424e-01,  2.21558579e-02],\n",
       "       [-1.06513530e+00,  4.16141640e-01],\n",
       "       [ 7.72124673e-01, -5.48772934e-01],\n",
       "       [ 2.81226044e-01,  2.18471462e-01],\n",
       "       [ 2.21710231e+00, -3.36192927e-01],\n",
       "       [ 9.89251253e-01, -8.33143519e-01],\n",
       "       [-1.16451840e+00,  5.71513855e-01],\n",
       "       [-4.75040845e-01,  5.16659726e-01],\n",
       "       [ 1.70087101e+00, -1.75312914e-02],\n",
       "       [-2.06335837e-01,  3.06492809e-01],\n",
       "       [ 6.96540488e-01,  5.09849873e-01],\n",
       "       [ 4.31843229e-01, -7.88530274e-03],\n",
       "       [ 1.89627033e+00,  1.80821613e-01],\n",
       "       [ 1.52468564e+00, -3.92445527e-01],\n",
       "       [-4.61635823e-02,  8.60923004e-01],\n",
       "       [ 1.77680579e+00,  2.76041725e-01],\n",
       "       [ 1.41940554e+00,  1.85938400e-01],\n",
       "       [-1.11474991e+00,  2.22374042e-01],\n",
       "       [ 5.24279021e-01,  4.08046197e-01],\n",
       "       [ 7.39069237e-01,  3.11567656e-01],\n",
       "       [ 8.05699747e-01,  3.04590407e-01],\n",
       "       [-7.74403512e-01, -4.34884571e-02],\n",
       "       [ 1.36579223e+00, -7.39143275e-01],\n",
       "       [-3.20631400e-01,  4.48083637e-01],\n",
       "       [ 1.49415998e+00, -8.42126456e-01],\n",
       "       [ 2.40871890e-01, -6.08233193e-01],\n",
       "       [ 1.44366292e-01,  7.32828362e-01],\n",
       "       [ 1.37105600e+00, -4.94597992e-01],\n",
       "       [ 3.09059590e-01, -4.95990074e-01],\n",
       "       [ 6.17650728e-01, -6.16431352e-01],\n",
       "       [ 6.61795271e-01, -2.66444561e-01],\n",
       "       [ 1.04214304e+00,  3.05142739e-01],\n",
       "       [ 1.40959238e+00,  3.56194731e-02],\n",
       "       [ 6.84671594e-01,  4.95838624e-01],\n",
       "       [-5.49718894e-01,  1.55300285e-01],\n",
       "       [ 5.28444561e-02,  1.10795545e-01],\n",
       "       [ 9.88292196e-01,  1.27760833e+00],\n",
       "       [ 5.68748767e-01,  9.03690776e-01],\n",
       "       [-1.55363506e+00,  9.19407789e-02],\n",
       "       [ 5.02348521e-01, -1.64335669e-01],\n",
       "       [-1.68152757e-01,  7.01351434e-01],\n",
       "       [ 5.84505073e-01, -8.77998971e-01],\n",
       "       [ 4.19933477e-01, -3.63962884e-01],\n",
       "       [ 4.72819373e-01,  3.13963263e-01],\n",
       "       [ 9.55551848e-01, -5.74866435e-01],\n",
       "       [-1.08948919e+00,  5.70147417e-01],\n",
       "       [ 3.83222603e-01,  2.05651510e-01],\n",
       "       [ 1.31096123e+00, -3.72217111e-01],\n",
       "       [-6.65761723e-01,  1.03953045e+00],\n",
       "       [ 1.05842171e-02,  3.26997863e-01],\n",
       "       [ 5.07447986e-01,  1.56375120e+00],\n",
       "       [-9.09790988e-02,  9.67922839e-01],\n",
       "       [ 1.81331143e+00,  1.01114818e-01],\n",
       "       [ 2.13314323e-02,  8.16957476e-01],\n",
       "       [ 1.13584398e+00,  4.33190529e-02],\n",
       "       [ 1.06616172e+00, -3.16614253e-01],\n",
       "       [ 7.45471290e-02, -7.44180459e-01],\n",
       "       [-3.92976991e-01,  8.29353711e-01],\n",
       "       [ 2.07296033e+00,  4.91794536e-02],\n",
       "       [-9.08386905e-01,  6.14092105e-01],\n",
       "       [ 6.30145278e-01,  1.09752558e+00],\n",
       "       [ 1.83964886e+00, -7.47053416e-02],\n",
       "       [ 1.85784490e+00, -1.32859516e-01],\n",
       "       [ 5.92874786e-01,  6.40880198e-01],\n",
       "       [ 2.97968970e-01, -2.81140527e-01],\n",
       "       [ 6.44835409e-01,  9.21794605e-01],\n",
       "       [-1.70990365e-01,  4.61359205e-01],\n",
       "       [ 1.46126646e+00,  2.90365598e-02],\n",
       "       [ 5.64097702e-01, -1.54987440e-01],\n",
       "       [-3.81467647e-01,  3.75138202e-01],\n",
       "       [ 2.20811278e+00,  4.00767766e-01],\n",
       "       [ 2.55692261e+00,  6.70355876e-03],\n",
       "       [-1.33139516e+00,  1.41615011e-01],\n",
       "       [ 1.86780456e-01, -5.49570326e-01],\n",
       "       [-1.38217497e+00,  1.92047884e-01],\n",
       "       [-8.07143720e-01,  2.29493724e-01],\n",
       "       [-5.57821671e-01,  7.81018915e-01],\n",
       "       [ 1.19806926e+00, -3.79933181e-01],\n",
       "       [-2.48004926e-01,  8.01498650e-01],\n",
       "       [ 5.79737915e-01,  8.10462762e-01],\n",
       "       [ 1.83692717e+00,  7.11102725e-01],\n",
       "       [ 9.05630663e-03,  9.08162257e-01],\n",
       "       [ 8.13560892e-01,  1.62955495e-01],\n",
       "       [ 1.99178638e+00,  2.00922339e-02],\n",
       "       [ 6.32379430e-01, -8.18370163e-01],\n",
       "       [-4.80269363e-01,  1.21075253e+00],\n",
       "       [ 1.69229117e-01,  1.10046709e+00],\n",
       "       [ 1.04803034e+00, -8.52067051e-02],\n",
       "       [ 6.00712024e-01, -6.25511032e-01],\n",
       "       [ 8.51779024e-01, -2.27039328e-01],\n",
       "       [ 1.42026924e+00, -2.76524427e-01],\n",
       "       [ 2.32740671e+00, -2.40934556e-01],\n",
       "       [ 4.28076486e-01,  7.07844807e-01],\n",
       "       [-1.08210052e+00, -1.72097405e-01],\n",
       "       [ 1.27227035e+00, -8.70286762e-01],\n",
       "       [-9.42334926e-02,  7.52971831e-01],\n",
       "       [ 1.23870314e+00, -7.70303017e-01],\n",
       "       [-9.06864961e-01,  7.96234083e-01],\n",
       "       [-4.53456177e-02, -2.90558072e-01],\n",
       "       [ 5.52148673e-01,  2.29079526e-01],\n",
       "       [ 2.07828709e+00,  5.69933676e-01],\n",
       "       [-1.62633033e-01,  7.13276583e-01],\n",
       "       [ 1.73858809e+00,  2.15692910e-01],\n",
       "       [-1.31924516e-01,  4.40900743e-01],\n",
       "       [-4.21580897e-02, -2.50103700e-01],\n",
       "       [ 1.44594086e-02,  1.69382034e-01],\n",
       "       [ 1.53008617e+00, -4.20074145e-01],\n",
       "       [ 4.05412268e-01, -4.54373670e-01],\n",
       "       [-6.60583435e-01,  7.59500884e-01],\n",
       "       [-3.30877787e-01,  9.03649208e-01],\n",
       "       [ 7.64804753e-02,  6.31930086e-01],\n",
       "       [ 5.63143724e-01,  8.30133790e-01],\n",
       "       [ 2.94136352e-01,  8.75163989e-01],\n",
       "       [ 1.44153612e+00, -6.56897588e-01],\n",
       "       [ 1.08470587e+00, -4.59780731e-01],\n",
       "       [-4.08073353e-01,  4.44184537e-01],\n",
       "       [ 4.13194345e-01,  8.58801923e-01],\n",
       "       [ 1.50949107e-01,  1.06659616e+00],\n",
       "       [-2.47055756e-01,  3.99258838e-01],\n",
       "       [-3.45310295e-01,  8.97871966e-01],\n",
       "       [-7.88659650e-01,  4.14686750e-01],\n",
       "       [ 7.02962086e-02, -2.28859155e-01],\n",
       "       [ 2.76429397e-01,  1.18124384e+00],\n",
       "       [-6.04378708e-02,  8.27756504e-01],\n",
       "       [ 8.30066287e-01,  7.57799989e-01],\n",
       "       [-2.44873885e-01,  6.88020941e-01],\n",
       "       [ 8.51650840e-01, -2.74997140e-01],\n",
       "       [ 7.59281068e-01,  5.22917049e-01],\n",
       "       [ 2.43867083e-01,  8.07469241e-01],\n",
       "       [-8.33923383e-01,  2.77267091e-01],\n",
       "       [ 1.26578208e+00, -6.98811373e-01],\n",
       "       [ 2.22821762e+00, -9.43897307e-03],\n",
       "       [ 2.30637036e+00,  6.99743168e-01],\n",
       "       [ 4.37002778e-01,  3.24457816e-01],\n",
       "       [ 1.07326176e+00,  3.57790821e-01],\n",
       "       [ 5.08269517e-01, -2.36765141e-01],\n",
       "       [ 7.02212438e-01, -1.68277957e-01],\n",
       "       [ 3.92045929e-01, -3.24800716e-01],\n",
       "       [-1.14137443e+00,  8.95821756e-01],\n",
       "       [ 2.82218894e-01,  1.40790480e-01],\n",
       "       [ 1.94455571e+00, -1.68937475e-03],\n",
       "       [ 1.06156161e+00, -1.59331210e-01],\n",
       "       [ 1.39812194e-01,  1.30148657e+00],\n",
       "       [ 2.32148702e+00,  1.04642772e-01],\n",
       "       [-1.84153373e-02,  1.04515370e+00],\n",
       "       [ 4.49612299e-01, -5.28308916e-01],\n",
       "       [ 1.82859896e-02, -2.65013788e-01],\n",
       "       [ 1.41095997e+00, -1.40476874e-01],\n",
       "       [ 1.74202704e+00,  6.44430290e-01],\n",
       "       [-9.10374582e-01,  3.34554719e-01],\n",
       "       [ 4.91070279e-01,  1.15597261e+00],\n",
       "       [ 1.17271785e+00,  2.05181857e-01],\n",
       "       [-6.33052454e-01,  1.18882492e+00],\n",
       "       [ 6.48267589e-01,  7.02331560e-01],\n",
       "       [ 1.88681236e-01,  8.82504477e-01],\n",
       "       [-7.65844265e-01,  5.06227350e-01],\n",
       "       [ 1.92646972e+00, -2.80079617e-01],\n",
       "       [ 2.07308028e+00,  7.44551833e-01],\n",
       "       [ 1.00235716e+00,  8.11873654e-01],\n",
       "       [ 2.58188446e-01,  1.23051362e+00],\n",
       "       [ 1.92975080e+00,  1.21961901e-01],\n",
       "       [ 2.29339354e+00, -9.70634810e-02],\n",
       "       [-3.01943494e-01,  4.22405859e-01],\n",
       "       [ 1.76624120e+00, -1.64576582e-02],\n",
       "       [-8.02720797e-01,  1.19499070e+00],\n",
       "       [ 2.06477710e+00, -4.16538517e-01],\n",
       "       [ 6.22105076e-01,  2.19305521e-01],\n",
       "       [-4.46361922e-01,  9.09975298e-02],\n",
       "       [ 4.75597311e-02,  2.91829796e-01],\n",
       "       [ 1.32732944e+00, -6.44437315e-02],\n",
       "       [-5.22898513e-01,  7.67549963e-01],\n",
       "       [ 9.95091115e-01, -8.27143032e-01],\n",
       "       [-2.48308781e-03,  1.47133544e+00],\n",
       "       [ 1.53885413e-01,  6.59777033e-01],\n",
       "       [ 1.29505847e+00, -1.04882552e+00],\n",
       "       [-5.08038730e-02,  1.04355552e+00],\n",
       "       [ 1.09435640e+00,  4.83155233e-01],\n",
       "       [-3.84810669e-01, -5.94165315e-02],\n",
       "       [-9.41520461e-01,  6.00435042e-01],\n",
       "       [ 3.76853478e-01, -8.98766529e-01],\n",
       "       [ 2.16028613e+00, -2.05161194e-01],\n",
       "       [ 9.30429466e-02,  3.08566128e-01],\n",
       "       [-7.26039249e-01,  6.72407783e-01],\n",
       "       [-9.46838479e-02, -8.94659690e-02],\n",
       "       [-7.45605466e-02,  8.32244393e-01],\n",
       "       [-1.21030416e+00,  5.26577214e-02],\n",
       "       [ 1.61266241e+00, -1.30114735e-02],\n",
       "       [ 1.63583551e+00, -1.13806375e+00],\n",
       "       [ 1.47072199e+00,  1.76090161e-01],\n",
       "       [-3.50142506e-01,  2.12244168e-01],\n",
       "       [ 6.46422202e-01,  4.85175865e-01],\n",
       "       [ 2.18455160e+00, -2.93649879e-02],\n",
       "       [ 1.19407305e+00, -5.46683666e-01],\n",
       "       [-1.08766773e-01, -2.72320753e-01],\n",
       "       [-1.52578392e-01, -1.23169672e-02],\n",
       "       [-4.39168104e-01,  1.72280647e+00],\n",
       "       [-1.08291390e+00, -1.22978162e-01],\n",
       "       [ 2.16251306e+00, -4.50887208e-01],\n",
       "       [ 1.45198605e+00, -3.73418417e-02],\n",
       "       [ 5.42803241e-01, -1.97632106e-01],\n",
       "       [ 7.14030804e-01, -7.52691646e-01],\n",
       "       [ 5.53501596e-01,  5.68632539e-01],\n",
       "       [-1.54677223e-01, -2.95417765e-02],\n",
       "       [ 1.06293083e+00,  1.26022190e-01],\n",
       "       [ 4.68559161e-01,  9.80123235e-01],\n",
       "       [ 1.88316342e+00,  2.95062758e-01],\n",
       "       [ 1.76674685e+00,  2.21207036e-01],\n",
       "       [-1.11792494e+00,  8.63950628e-01],\n",
       "       [ 8.72618888e-01,  7.14565587e-01],\n",
       "       [-5.37387330e-01,  1.65805115e+00],\n",
       "       [ 8.91855215e-01,  3.36462673e-01],\n",
       "       [ 1.73955757e-01,  1.73721557e-01],\n",
       "       [ 8.09685388e-01,  6.32645075e-01],\n",
       "       [ 4.35990672e-01, -1.90561717e-01],\n",
       "       [ 1.60645659e+00, -6.66121881e-01],\n",
       "       [-5.86821545e-02,  5.09140070e-01],\n",
       "       [-9.02074428e-01,  3.36550180e-01],\n",
       "       [ 1.74775092e+00, -6.51745822e-01],\n",
       "       [-5.19183226e-01,  4.31479011e-01],\n",
       "       [ 8.93451511e-01,  1.15893382e+00],\n",
       "       [ 3.05576706e-01,  9.22871370e-01],\n",
       "       [ 6.60694404e-02,  1.16579933e+00],\n",
       "       [ 9.37325444e-01, -6.56708455e-01],\n",
       "       [-4.92649767e-01,  4.61672262e-01],\n",
       "       [ 1.21794849e+00,  3.93428604e-01],\n",
       "       [ 1.62360072e+00, -2.50383615e-01],\n",
       "       [ 1.42564609e+00, -4.63850671e-01],\n",
       "       [ 1.01721119e+00, -3.32838431e-01],\n",
       "       [ 3.18438111e-01, -7.00101361e-02],\n",
       "       [ 2.13348704e+00,  6.13710285e-01],\n",
       "       [ 2.01881563e+00,  9.80199759e-02],\n",
       "       [ 1.04681659e+00, -4.78867637e-01],\n",
       "       [ 8.89257619e-01, -4.14810602e-01],\n",
       "       [-1.55068240e-03,  9.98140777e-01],\n",
       "       [-1.26443201e+00,  2.52999589e-01]])"
      ]
     },
     "execution_count": 136,
     "metadata": {},
     "output_type": "execute_result"
    }
   ],
   "source": [
    "X"
   ]
  },
  {
   "cell_type": "code",
   "execution_count": 123,
   "metadata": {},
   "outputs": [],
   "source": [
    "import matplotlib.pyplot as plt"
   ]
  },
  {
   "cell_type": "code",
   "execution_count": 138,
   "metadata": {},
   "outputs": [
    {
     "data": {
      "image/png": "[encoded data removed]",
      "text/plain": [
       "<Figure size 432x288 with 1 Axes>"
      ]
     },
     "execution_count": 138,
     "metadata": {},
     "output_type": "execute_result"
    },
    {
     "data": {
      "image/png": "[encoded data removed]",
      "text/plain": [
       "<Figure size 432x288 with 1 Axes>"
      ]
     },
     "metadata": {
      "needs_background": "light"
     },
     "output_type": "display_data"
    }
   ],
   "source": [
    "fig = plt.figure()\n",
    "plt.scatter(X[:, 0], X[:, 1], c=y, alpha=0.3, cmap=\"autumn\")  \n",
    "fig"
   ]
  },
  {
   "cell_type": "code",
   "execution_count": 139,
   "metadata": {},
   "outputs": [
    {
     "data": {
      "text/plain": [
       "(300, 2)"
      ]
     },
     "execution_count": 139,
     "metadata": {},
     "output_type": "execute_result"
    }
   ],
   "source": [
    "X.shape"
   ]
  },
  {
   "cell_type": "code",
   "execution_count": 130,
   "metadata": {},
   "outputs": [
    {
     "data": {
      "text/plain": [
       "(300,)"
      ]
     },
     "execution_count": 130,
     "metadata": {},
     "output_type": "execute_result"
    }
   ],
   "source": [
    "y.shape"
   ]
  },
  {
   "cell_type": "code",
   "execution_count": 131,
   "metadata": {},
   "outputs": [
    {
     "data": {
      "text/plain": [
       "array([[1],\n",
       "       [1],\n",
       "       [0],\n",
       "       [1],\n",
       "       [1],\n",
       "       [1],\n",
       "       [0],\n",
       "       [0],\n",
       "       [0],\n",
       "       [0],\n",
       "       [1],\n",
       "       [0],\n",
       "       [0],\n",
       "       [1],\n",
       "       [1],\n",
       "       [0],\n",
       "       [1],\n",
       "       [1],\n",
       "       [0],\n",
       "       [1],\n",
       "       [1],\n",
       "       [0],\n",
       "       [0],\n",
       "       [0],\n",
       "       [0],\n",
       "       [1],\n",
       "       [0],\n",
       "       [0],\n",
       "       [0],\n",
       "       [0],\n",
       "       [0],\n",
       "       [0],\n",
       "       [0],\n",
       "       [0],\n",
       "       [0],\n",
       "       [1],\n",
       "       [1],\n",
       "       [1],\n",
       "       [0],\n",
       "       [0],\n",
       "       [0],\n",
       "       [0],\n",
       "       [0],\n",
       "       [1],\n",
       "       [0],\n",
       "       [0],\n",
       "       [1],\n",
       "       [1],\n",
       "       [0],\n",
       "       [0],\n",
       "       [0],\n",
       "       [0],\n",
       "       [1],\n",
       "       [1],\n",
       "       [1],\n",
       "       [1],\n",
       "       [1],\n",
       "       [1],\n",
       "       [1],\n",
       "       [0],\n",
       "       [1],\n",
       "       [0],\n",
       "       [0],\n",
       "       [0],\n",
       "       [1],\n",
       "       [0],\n",
       "       [0],\n",
       "       [0],\n",
       "       [1],\n",
       "       [1],\n",
       "       [0],\n",
       "       [0],\n",
       "       [0],\n",
       "       [0],\n",
       "       [0],\n",
       "       [1],\n",
       "       [1],\n",
       "       [0],\n",
       "       [1],\n",
       "       [1],\n",
       "       [0],\n",
       "       [1],\n",
       "       [1],\n",
       "       [0],\n",
       "       [0],\n",
       "       [1],\n",
       "       [0],\n",
       "       [1],\n",
       "       [0],\n",
       "       [1],\n",
       "       [1],\n",
       "       [1],\n",
       "       [0],\n",
       "       [1],\n",
       "       [1],\n",
       "       [1],\n",
       "       [1],\n",
       "       [1],\n",
       "       [1],\n",
       "       [1],\n",
       "       [1],\n",
       "       [0],\n",
       "       [0],\n",
       "       [1],\n",
       "       [0],\n",
       "       [1],\n",
       "       [1],\n",
       "       [1],\n",
       "       [0],\n",
       "       [0],\n",
       "       [1],\n",
       "       [1],\n",
       "       [1],\n",
       "       [0],\n",
       "       [0],\n",
       "       [0],\n",
       "       [0],\n",
       "       [0],\n",
       "       [0],\n",
       "       [0],\n",
       "       [1],\n",
       "       [1],\n",
       "       [1],\n",
       "       [1],\n",
       "       [0],\n",
       "       [0],\n",
       "       [1],\n",
       "       [1],\n",
       "       [1],\n",
       "       [0],\n",
       "       [0],\n",
       "       [0],\n",
       "       [0],\n",
       "       [0],\n",
       "       [1],\n",
       "       [1],\n",
       "       [0],\n",
       "       [0],\n",
       "       [1],\n",
       "       [1],\n",
       "       [1],\n",
       "       [0],\n",
       "       [1],\n",
       "       [0],\n",
       "       [0],\n",
       "       [1],\n",
       "       [1],\n",
       "       [0],\n",
       "       [1],\n",
       "       [1],\n",
       "       [0],\n",
       "       [1],\n",
       "       [0],\n",
       "       [1],\n",
       "       [1],\n",
       "       [0],\n",
       "       [1],\n",
       "       [1],\n",
       "       [0],\n",
       "       [1],\n",
       "       [1],\n",
       "       [1],\n",
       "       [0],\n",
       "       [0],\n",
       "       [0],\n",
       "       [0],\n",
       "       [1],\n",
       "       [1],\n",
       "       [1],\n",
       "       [1],\n",
       "       [1],\n",
       "       [1],\n",
       "       [0],\n",
       "       [1],\n",
       "       [1],\n",
       "       [1],\n",
       "       [0],\n",
       "       [1],\n",
       "       [1],\n",
       "       [0],\n",
       "       [0],\n",
       "       [1],\n",
       "       [0],\n",
       "       [1],\n",
       "       [1],\n",
       "       [1],\n",
       "       [0],\n",
       "       [1],\n",
       "       [1],\n",
       "       [0],\n",
       "       [1],\n",
       "       [1],\n",
       "       [1],\n",
       "       [0],\n",
       "       [0],\n",
       "       [0],\n",
       "       [1],\n",
       "       [0],\n",
       "       [1],\n",
       "       [1],\n",
       "       [0],\n",
       "       [1],\n",
       "       [1],\n",
       "       [1],\n",
       "       [1],\n",
       "       [0],\n",
       "       [1],\n",
       "       [0],\n",
       "       [1],\n",
       "       [0],\n",
       "       [0],\n",
       "       [0],\n",
       "       [1],\n",
       "       [1],\n",
       "       [1],\n",
       "       [0],\n",
       "       [1],\n",
       "       [0],\n",
       "       [0],\n",
       "       [0],\n",
       "       [0],\n",
       "       [0],\n",
       "       [1],\n",
       "       [0],\n",
       "       [1],\n",
       "       [1],\n",
       "       [1],\n",
       "       [1],\n",
       "       [0],\n",
       "       [1],\n",
       "       [0],\n",
       "       [0],\n",
       "       [0],\n",
       "       [0],\n",
       "       [0],\n",
       "       [0],\n",
       "       [1],\n",
       "       [1],\n",
       "       [1],\n",
       "       [0],\n",
       "       [1],\n",
       "       [0],\n",
       "       [0],\n",
       "       [1],\n",
       "       [0],\n",
       "       [1],\n",
       "       [1],\n",
       "       [0],\n",
       "       [1],\n",
       "       [1],\n",
       "       [1],\n",
       "       [1],\n",
       "       [0],\n",
       "       [1],\n",
       "       [1],\n",
       "       [0],\n",
       "       [0],\n",
       "       [1],\n",
       "       [0],\n",
       "       [0],\n",
       "       [0],\n",
       "       [1],\n",
       "       [1],\n",
       "       [0],\n",
       "       [1],\n",
       "       [0],\n",
       "       [0],\n",
       "       [1],\n",
       "       [1],\n",
       "       [1],\n",
       "       [1],\n",
       "       [0],\n",
       "       [0],\n",
       "       [0],\n",
       "       [0],\n",
       "       [0],\n",
       "       [1],\n",
       "       [1],\n",
       "       [0],\n",
       "       [0],\n",
       "       [0],\n",
       "       [0],\n",
       "       [1],\n",
       "       [0],\n",
       "       [1],\n",
       "       [0],\n",
       "       [1],\n",
       "       [0],\n",
       "       [1],\n",
       "       [1],\n",
       "       [0],\n",
       "       [0],\n",
       "       [1],\n",
       "       [0],\n",
       "       [0],\n",
       "       [1],\n",
       "       [0],\n",
       "       [0],\n",
       "       [0],\n",
       "       [0]])"
      ]
     },
     "execution_count": 131,
     "metadata": {},
     "output_type": "execute_result"
    }
   ],
   "source": [
    "Y = y.reshape(N,1)       # 300*1 행렬도 재정의\n",
    "Y"
   ]
  },
  {
   "cell_type": "code",
   "execution_count": 132,
   "metadata": {},
   "outputs": [],
   "source": [
    "from sklearn.model_selection import train_test_split"
   ]
  },
  {
   "cell_type": "code",
   "execution_count": 140,
   "metadata": {},
   "outputs": [
    {
     "name": "stderr",
     "output_type": "stream",
     "text": [
      "/Users/new/anaconda3/lib/python3.7/site-packages/sklearn/model_selection/_split.py:2026: FutureWarning: From version 0.21, test_size will always complement train_size unless both are specified.\n",
      "  FutureWarning)\n"
     ]
    }
   ],
   "source": [
    "X_train, X_test, Y_train, Y_test= train_test_split(X,Y, train_size=0.8)"
   ]
  },
  {
   "cell_type": "code",
   "execution_count": 142,
   "metadata": {},
   "outputs": [
    {
     "data": {
      "text/plain": [
       "array([[ 1.44153612e+00, -6.56897588e-01],\n",
       "       [ 6.96540488e-01,  5.09849873e-01],\n",
       "       [-4.39168104e-01,  1.72280647e+00],\n",
       "       [ 2.05905188e+00, -4.14851874e-04],\n",
       "       [ 3.02263272e-01,  6.75230185e-01],\n",
       "       [ 1.42146203e-01,  1.64617811e-01],\n",
       "       [-4.75040845e-01,  5.16659726e-01],\n",
       "       [-2.38168679e-01,  9.95089796e-01],\n",
       "       [-1.26443201e+00,  2.52999589e-01],\n",
       "       [-4.80269363e-01,  1.21075253e+00],\n",
       "       [-1.14137443e+00,  8.95821756e-01],\n",
       "       [ 5.08269517e-01, -2.36765141e-01],\n",
       "       [-8.07143720e-01,  2.29493724e-01],\n",
       "       [ 1.87118869e+00,  1.37612868e-01],\n",
       "       [ 5.01751424e-01,  2.21558579e-02],\n",
       "       [ 6.00712024e-01, -6.25511032e-01],\n",
       "       [ 9.88292196e-01,  1.27760833e+00],\n",
       "       [ 4.35990672e-01, -1.90561717e-01],\n",
       "       [ 1.36579223e+00, -7.39143275e-01],\n",
       "       [ 8.89469726e-01,  1.04972649e+00],\n",
       "       [ 9.37325444e-01, -6.56708455e-01],\n",
       "       [ 1.57708349e+00, -3.80927962e-01],\n",
       "       [ 1.25966833e+00, -6.42876441e-01],\n",
       "       [ 1.55830325e+00, -3.46912394e-01],\n",
       "       [ 1.00235716e+00,  8.11873654e-01],\n",
       "       [ 2.20811278e+00,  4.00767766e-01],\n",
       "       [-3.30877787e-01,  9.03649208e-01],\n",
       "       [-1.24350757e+00,  2.30573345e-01],\n",
       "       [ 4.75597311e-02,  2.91829796e-01],\n",
       "       [ 1.74202704e+00,  6.44430290e-01],\n",
       "       [ 1.74775092e+00, -6.51745822e-01],\n",
       "       [ 2.97968970e-01, -2.81140527e-01],\n",
       "       [ 2.07296033e+00,  4.91794536e-02],\n",
       "       [ 1.62360072e+00, -2.50383615e-01],\n",
       "       [-1.52578392e-01, -1.23169672e-02],\n",
       "       [-9.02074428e-01,  3.36550180e-01],\n",
       "       [-3.45310295e-01,  8.97871966e-01],\n",
       "       [ 1.88316342e+00,  2.95062758e-01],\n",
       "       [ 2.32740671e+00, -2.40934556e-01],\n",
       "       [ 1.47944612e+00,  1.97306062e-01],\n",
       "       [-4.46361922e-01,  9.09975298e-02],\n",
       "       [ 6.30145278e-01,  1.09752558e+00],\n",
       "       [-9.08386905e-01,  6.14092105e-01],\n",
       "       [-1.40747860e+00,  2.56714741e-01],\n",
       "       [-1.86976909e-01,  2.58515782e-01],\n",
       "       [ 6.46422202e-01,  4.85175865e-01],\n",
       "       [-4.08073353e-01,  4.44184537e-01],\n",
       "       [ 2.81226044e-01,  2.18471462e-01],\n",
       "       [-9.10374582e-01,  3.34554719e-01],\n",
       "       [-1.32126286e+00,  8.57627601e-02],\n",
       "       [-7.65844265e-01,  5.06227350e-01],\n",
       "       [ 8.05699747e-01,  3.04590407e-01],\n",
       "       [-3.50279607e-01,  3.34746055e-01],\n",
       "       [ 2.43867083e-01,  8.07469241e-01],\n",
       "       [ 1.82859896e-02, -2.65013788e-01],\n",
       "       [ 1.26578208e+00, -6.98811373e-01],\n",
       "       [ 1.32732944e+00, -6.44437315e-02],\n",
       "       [-6.04378708e-02,  8.27756504e-01],\n",
       "       [ 8.72618888e-01,  7.14565587e-01],\n",
       "       [-1.00454239e+00,  1.22293577e+00],\n",
       "       [ 8.75047276e-04,  1.45383162e+00],\n",
       "       [-7.88659650e-01,  4.14686750e-01],\n",
       "       [ 1.41940554e+00,  1.85938400e-01],\n",
       "       [ 1.63583551e+00, -1.13806375e+00],\n",
       "       [ 3.05576706e-01,  9.22871370e-01],\n",
       "       [ 1.48765748e+00, -5.18806440e-01],\n",
       "       [ 1.85235516e+00, -3.74020097e-02],\n",
       "       [-2.06335837e-01,  3.06492809e-01],\n",
       "       [-1.08766773e-01, -2.72320753e-01],\n",
       "       [ 5.63143724e-01,  8.30133790e-01],\n",
       "       [ 2.58188446e-01,  1.23051362e+00],\n",
       "       [ 6.60694404e-02,  1.16579933e+00],\n",
       "       [-4.59251958e-01,  3.16925920e-01],\n",
       "       [ 1.10239080e+00, -5.98417856e-01],\n",
       "       [ 1.42026924e+00, -2.76524427e-01],\n",
       "       [ 1.40959238e+00,  3.56194731e-02],\n",
       "       [ 1.09435640e+00,  4.83155233e-01],\n",
       "       [ 1.70087101e+00, -1.75312914e-02],\n",
       "       [ 1.07667981e+00, -2.88211357e-02],\n",
       "       [ 4.91070279e-01,  1.15597261e+00],\n",
       "       [ 2.16251306e+00, -4.50887208e-01],\n",
       "       [-1.09569999e+00,  5.98808309e-01],\n",
       "       [ 8.89257619e-01, -4.14810602e-01],\n",
       "       [ 7.59281068e-01,  5.22917049e-01],\n",
       "       [ 5.79737915e-01,  8.10462762e-01],\n",
       "       [-9.99603583e-01,  3.62864694e-01],\n",
       "       [-1.16451840e+00,  5.71513855e-01],\n",
       "       [ 1.83964886e+00, -7.47053416e-02],\n",
       "       [ 2.21710231e+00, -3.36192927e-01],\n",
       "       [ 1.49415998e+00, -8.42126456e-01],\n",
       "       [ 2.16028613e+00, -2.05161194e-01],\n",
       "       [-1.33139516e+00,  1.41615011e-01],\n",
       "       [ 1.61266241e+00, -1.30114735e-02],\n",
       "       [ 1.31096123e+00, -3.72217111e-01],\n",
       "       [-1.82171815e-01,  4.08669023e-01],\n",
       "       [ 1.17271785e+00,  2.05181857e-01],\n",
       "       [ 3.18438111e-01, -7.00101361e-02],\n",
       "       [ 7.20425144e-02, -4.02252407e-01],\n",
       "       [ 9.55551848e-01, -5.74866435e-01],\n",
       "       [ 6.61795271e-01, -2.66444561e-01],\n",
       "       [ 6.48267589e-01,  7.02331560e-01],\n",
       "       [ 7.45471290e-02, -7.44180459e-01],\n",
       "       [ 1.50949107e-01,  1.06659616e+00],\n",
       "       [ 1.20491648e+00, -1.72201053e-01],\n",
       "       [ 2.40871890e-01, -6.08233193e-01],\n",
       "       [ 1.47072199e+00,  1.76090161e-01],\n",
       "       [-9.06864961e-01,  7.96234083e-01],\n",
       "       [-6.65761723e-01,  1.03953045e+00],\n",
       "       [ 6.32379430e-01, -8.18370163e-01],\n",
       "       [ 4.31843229e-01, -7.88530274e-03],\n",
       "       [-1.70990365e-01,  4.61359205e-01],\n",
       "       [ 1.77680579e+00,  2.76041725e-01],\n",
       "       [ 3.75511393e-01,  1.04777680e+00],\n",
       "       [-1.11474991e+00,  2.22374042e-01],\n",
       "       [-2.44873885e-01,  6.88020941e-01],\n",
       "       [-2.48004926e-01,  8.01498650e-01],\n",
       "       [-4.21580897e-02, -2.50103700e-01],\n",
       "       [ 1.29505847e+00, -1.04882552e+00],\n",
       "       [-5.37387330e-01,  1.65805115e+00],\n",
       "       [-8.02720797e-01,  1.19499070e+00],\n",
       "       [-8.80230950e-01,  1.09413181e+00],\n",
       "       [ 6.44835409e-01,  9.21794605e-01],\n",
       "       [-6.60583435e-01,  7.59500884e-01],\n",
       "       [ 5.92874786e-01,  6.40880198e-01],\n",
       "       [-8.33923383e-01,  2.77267091e-01],\n",
       "       [ 1.45198605e+00, -3.73418417e-02],\n",
       "       [ 9.89251253e-01, -8.33143519e-01],\n",
       "       [-1.31924516e-01,  4.40900743e-01],\n",
       "       [-3.81467647e-01,  3.75138202e-01],\n",
       "       [ 6.54354874e-01, -1.25887932e-01],\n",
       "       [ 5.52148673e-01,  2.29079526e-01],\n",
       "       [-8.38439619e-01,  1.03563618e+00],\n",
       "       [-1.55068240e-03,  9.98140777e-01],\n",
       "       [ 1.73955757e-01,  1.73721557e-01],\n",
       "       [ 7.64804753e-02,  6.31930086e-01],\n",
       "       [ 2.01881563e+00,  9.80199759e-02],\n",
       "       [ 2.82218894e-01,  1.40790480e-01],\n",
       "       [-3.92976991e-01,  8.29353711e-01],\n",
       "       [ 4.05412268e-01, -4.54373670e-01],\n",
       "       [-1.38217497e+00,  1.92047884e-01],\n",
       "       [-9.09790988e-02,  9.67922839e-01],\n",
       "       [-7.74403512e-01, -4.34884571e-02],\n",
       "       [ 6.44761769e-01,  1.12726889e+00],\n",
       "       [ 1.92646972e+00, -2.80079617e-01],\n",
       "       [ 2.29339354e+00, -9.70634810e-02],\n",
       "       [ 4.57562590e-01,  5.52470847e-01],\n",
       "       [-9.46838479e-02, -8.94659690e-02],\n",
       "       [ 8.51650840e-01, -2.74997140e-01],\n",
       "       [ 1.73858809e+00,  2.15692910e-01],\n",
       "       [ 1.76674685e+00,  2.21207036e-01],\n",
       "       [ 8.30066287e-01,  7.57799989e-01],\n",
       "       [ 7.02212438e-01, -1.68277957e-01],\n",
       "       [ 1.53885413e-01,  6.59777033e-01],\n",
       "       [ 2.18455160e+00, -2.93649879e-02],\n",
       "       [ 7.02962086e-02, -2.28859155e-01],\n",
       "       [ 1.13584398e+00,  4.33190529e-02],\n",
       "       [ 1.06293083e+00,  1.26022190e-01],\n",
       "       [ 2.30637036e+00,  6.99743168e-01],\n",
       "       [ 1.08470587e+00, -4.59780731e-01],\n",
       "       [ 1.39812194e-01,  1.30148657e+00],\n",
       "       [ 1.06156161e+00, -1.59331210e-01],\n",
       "       [ 1.88681236e-01,  8.82504477e-01],\n",
       "       [-8.51167167e-01,  3.30176357e-01],\n",
       "       [ 1.04803034e+00, -8.52067051e-02],\n",
       "       [ 5.53501596e-01,  5.68632539e-01],\n",
       "       [ 4.68559161e-01,  9.80123235e-01],\n",
       "       [ 1.04494042e+00,  8.39586183e-01],\n",
       "       [ 1.19806926e+00, -3.79933181e-01],\n",
       "       [-1.11792494e+00,  8.63950628e-01],\n",
       "       [ 1.60645659e+00, -6.66121881e-01],\n",
       "       [ 5.07447986e-01,  1.56375120e+00],\n",
       "       [ 6.22105076e-01,  2.19305521e-01],\n",
       "       [-9.73745879e-01,  5.28048437e-01],\n",
       "       [ 1.44366292e-01,  7.32828362e-01],\n",
       "       [-2.89272825e-01,  5.93616828e-01],\n",
       "       [-8.83531116e-01,  3.55885150e-01],\n",
       "       [-9.42334926e-02,  7.52971831e-01],\n",
       "       [ 1.01721119e+00, -3.32838431e-01],\n",
       "       [ 1.35892631e+00, -7.28209869e-01],\n",
       "       [ 5.02348521e-01, -1.64335669e-01],\n",
       "       [ 5.42803241e-01, -1.97632106e-01],\n",
       "       [ 5.12818100e-01,  1.07132614e+00],\n",
       "       [ 4.28076486e-01,  7.07844807e-01],\n",
       "       [ 1.19407305e+00, -5.46683666e-01],\n",
       "       [-7.76580287e-01,  1.30664497e+00],\n",
       "       [ 3.09059590e-01, -4.95990074e-01],\n",
       "       [ 1.21794849e+00,  3.93428604e-01],\n",
       "       [ 2.30139607e+00,  4.46735853e-01],\n",
       "       [ 1.53735802e-02,  6.91566052e-01],\n",
       "       [ 9.46728152e-01,  2.44562804e-01],\n",
       "       [-1.62633033e-01,  7.13276583e-01],\n",
       "       [ 7.14030804e-01, -7.52691646e-01],\n",
       "       [-5.49718894e-01,  1.55300285e-01],\n",
       "       [-1.08948919e+00,  5.70147417e-01],\n",
       "       [ 4.37002778e-01,  3.24457816e-01],\n",
       "       [ 1.46126646e+00,  2.90365598e-02],\n",
       "       [ 1.76624120e+00, -1.64576582e-02],\n",
       "       [ 4.00092879e-01, -1.68197288e-01],\n",
       "       [ 1.52468564e+00, -3.92445527e-01],\n",
       "       [-5.15627085e-01,  1.05072783e+00],\n",
       "       [ 6.78259463e-01,  9.68458912e-01],\n",
       "       [ 2.07308028e+00,  7.44551833e-01],\n",
       "       [ 2.94136352e-01,  8.75163989e-01],\n",
       "       [-6.46323030e-01,  3.69399237e-01],\n",
       "       [-5.08038730e-02,  1.04355552e+00],\n",
       "       [-2.47055756e-01,  3.99258838e-01],\n",
       "       [ 1.04214304e+00,  3.05142739e-01],\n",
       "       [ 5.64097702e-01, -1.54987440e-01],\n",
       "       [ 1.42564609e+00, -4.63850671e-01],\n",
       "       [ 1.53008617e+00, -4.20074145e-01],\n",
       "       [-1.73055634e-02, -8.74156414e-01],\n",
       "       [-1.08210052e+00, -1.72097405e-01],\n",
       "       [ 3.83222603e-01,  2.05651510e-01],\n",
       "       [ 7.39069237e-01,  3.11567656e-01],\n",
       "       [ 2.22821762e+00, -9.43897307e-03],\n",
       "       [-5.86821545e-02,  5.09140070e-01],\n",
       "       [-1.54677223e-01, -2.95417765e-02],\n",
       "       [-3.84810669e-01, -5.94165315e-02],\n",
       "       [-7.45605466e-02,  8.32244393e-01],\n",
       "       [ 9.30429466e-02,  3.08566128e-01],\n",
       "       [ 6.17650728e-01, -6.16431352e-01],\n",
       "       [ 1.37105600e+00, -4.94597992e-01],\n",
       "       [ 1.23870314e+00, -7.70303017e-01],\n",
       "       [ 2.13348704e+00,  6.13710285e-01],\n",
       "       [ 1.85784490e+00, -1.32859516e-01],\n",
       "       [ 5.28444561e-02,  1.10795545e-01],\n",
       "       [ 1.04681659e+00, -4.78867637e-01],\n",
       "       [ 2.07828709e+00,  5.69933676e-01],\n",
       "       [ 2.06477710e+00, -4.16538517e-01],\n",
       "       [ 1.12158269e+00, -3.31094663e-02],\n",
       "       [ 5.24279021e-01,  4.08046197e-01],\n",
       "       [ 2.13314323e-02,  8.16957476e-01],\n",
       "       [ 8.51779024e-01, -2.27039328e-01],\n",
       "       [ 4.13194345e-01,  8.58801923e-01],\n",
       "       [ 5.68748767e-01,  9.03690776e-01],\n",
       "       [ 1.41095997e+00, -1.40476874e-01],\n",
       "       [ 1.83692717e+00,  7.11102725e-01],\n",
       "       [ 1.69229117e-01,  1.10046709e+00],\n",
       "       [ 4.19933477e-01, -3.63962884e-01],\n",
       "       [-1.55363506e+00,  9.19407789e-02]])"
      ]
     },
     "execution_count": 142,
     "metadata": {},
     "output_type": "execute_result"
    }
   ],
   "source": [
    "X_train"
   ]
  },
  {
   "cell_type": "code",
   "execution_count": 143,
   "metadata": {},
   "outputs": [],
   "source": [
    "num_hidden=3\n",
    "x=tf.placeholder(tf.float32, shape=[None,2])      # ?*2열의 행렬\n",
    " # 300 대신 None : 그때그때 입력하게 자리는 확보\n",
    "t=tf.placeholder(tf.float32, shape=[None, 1])  #shape 안 맞으면 아래 for문 안돌아감"
   ]
  },
  {
   "cell_type": "markdown",
   "metadata": {},
   "source": [
    "- Z=XW+b\n",
    "- a=sigmond(Z) #activation function"
   ]
  },
  {
   "cell_type": "code",
   "execution_count": 144,
   "metadata": {},
   "outputs": [],
   "source": [
    "W1=tf.Variable(tf.random_normal([2, num_hidden], mean=0, stddev=1.0))     # 2*3\n",
    "b1=tf.Variable(tf.zeros([1, num_hidden]))      # 1*3\n",
    "\n",
    "# Z=WX+b 의 형태(linear combination)\n",
    "z1=tf.matmul(x,W1)+b1              # ?*3 \n",
    "\n",
    "a1=tf.nn.relu(z1)         # ?*3\n",
    "# 원래 relu 자리에 sigmoid였는데 바꿈\n",
    "# ReLU 함수는 그림에 있는 것처럼 0보다 작을 때는 0을 사용하고, 0보다 큰 값에 대해서는 해당 값을 그대로 사용하는 방법이다. \n",
    "# 음수에 대해서는 값이 바뀌지만, 양수에 대해서는 값을 바꾸지 않는다.\n",
    "# http://pythonkim.tistory.com/40 참고!!"
   ]
  },
  {
   "cell_type": "code",
   "execution_count": 146,
   "metadata": {},
   "outputs": [],
   "source": [
    "W2=tf.Variable(tf.random_normal([num_hidden,1], mean=0, stddev=1.0))     # 3*1\n",
    "b2=tf.Variable(tf.zeros([1,1]))              # 1*1\n",
    "z2=tf.matmul(a1, W2)+b2             # w2가 3*1 행렬이므로, ?*3인 a1을 곱해준다.      \n",
    "a2=tf.nn.sigmoid(z2)\n",
    "\n",
    "#- log likelihood를 loss function으로 두고 최소화\n",
    "cross_entropy= -tf.reduce_sum( t*tf.log(a2)+(1-t)*tf.log(1-a2))"
   ]
  },
  {
   "cell_type": "code",
   "execution_count": 150,
   "metadata": {},
   "outputs": [
    {
     "data": {
      "text/plain": [
       "<tf.Tensor 'Relu:0' shape=(?, 3) dtype=float32>"
      ]
     },
     "execution_count": 150,
     "metadata": {},
     "output_type": "execute_result"
    }
   ],
   "source": [
    "a1"
   ]
  },
  {
   "cell_type": "code",
   "execution_count": 151,
   "metadata": {},
   "outputs": [],
   "source": [
    "my_optimizer=tf.train.GradientDescentOptimizer(0.05)   \n",
    " # learing rate = 0.05   : 학습률 지정\n",
    "    \n",
    "train_step = my_optimizer.minimize(cross_entropy)\n",
    "\n",
    "#########\n",
    "## train_step = tf.train.GradientDescentOptimizer(0.05).minimize(cross_entropy) 와 같은 꼴"
   ]
  },
  {
   "cell_type": "code",
   "execution_count": 152,
   "metadata": {},
   "outputs": [],
   "source": [
    "# preparation for result"
   ]
  },
  {
   "cell_type": "code",
   "execution_count": 156,
   "metadata": {},
   "outputs": [
    {
     "name": "stdout",
     "output_type": "stream",
     "text": [
      "Tensor(\"Mean_1:0\", shape=(), dtype=float32)\n"
     ]
    }
   ],
   "source": [
    "# a2값이 0.5보다 크면 1을 리턴하고, 0.5보다 작으면 0을 리턴\n",
    "# 리턴값을 t와 비교하여 같으면 1, 다르면 0을 리턴한다.\n",
    "correct_prediction=tf.equal( tf.to_float(tf.greater(a2,0.5)), t )            # a2=tf.nn.sigmoid(z2)\n",
    "\n",
    "# 이렇게 비교한 값은 correct_prediction에 boolean list 형태로 저장이 되고, \n",
    "# 다시 한번 to_float를 통해 정수로 변환을 해준 후, reduce_mean을 해주면 정확도가 나타나게 된다. \n",
    "my_prediction=tf.cast(tf.greater(a2, 0.5) , tf.float32) # Casts a tensor to a new type.\n",
    "                                                        # 부동소수점형에서 정수형으로 바꾼 경우 소수점 버림을 한다.\n",
    "                                                        # Boolean형태인 경우 True이면 1, False이면 0을 출력한다.\n",
    "accuracy = tf.reduce_mean( tf.cast(correct_prediction, tf.float32) )\n",
    "print(accuracy)"
   ]
  },
  {
   "cell_type": "code",
   "execution_count": 155,
   "metadata": {},
   "outputs": [
    {
     "data": {
      "text/plain": [
       "15"
      ]
     },
     "execution_count": 155,
     "metadata": {},
     "output_type": "execute_result"
    }
   ],
   "source": [
    "batch_size=20\n",
    "n_batches= N//batch_size # 나누기에서 몫만 취함\n",
    "n_batches"
   ]
  },
  {
   "cell_type": "code",
   "execution_count": 157,
   "metadata": {},
   "outputs": [],
   "source": [
    "init= tf.global_variables_initializer()\n",
    "sess=tf.Session()\n",
    "sess.run(init)"
   ]
  },
  {
   "cell_type": "code",
   "execution_count": 158,
   "metadata": {},
   "outputs": [],
   "source": [
    "from sklearn.utils import shuffle\n",
    "#Resample arrays or sparse matrices in a consistent way"
   ]
  },
  {
   "cell_type": "code",
   "execution_count": 159,
   "metadata": {},
   "outputs": [],
   "source": [
    "# epoch는 전체 데이터를 보는 횟수\n",
    "# training_epochs = 1000\n",
    "# n_batches = 15\n",
    "# batch_size=20\n",
    "\n",
    "for epoch in range(1000): \n",
    "    X_, Y_ = shuffle(X_train, Y_train)       # 데이터를 섞는다.\n",
    "    \n",
    "    for i in range(n_batches):\n",
    "        start= i*batch_size   \n",
    "        end= start+batch_size\n",
    "        \n",
    "        sess.run(train_step, feed_dict={        #x값과, 비교하기 위한 t값을 넣고, 학습모델로 train_step을 넣고 돌린다.\n",
    "            x:X_[start:end, :], \n",
    "            t:Y_[start:end, :]\n",
    "        })\n",
    "    accuracy=accuracy.eval(session=sess, feed_dict={\n",
    "    x:X_test, t:Y_test\n",
    "})\n",
    "        \n",
    "#train_step = my_optimizer.minimize(cross_entropy) 위에서 정의"
   ]
  },
  {
   "cell_type": "code",
   "execution_count": 160,
   "metadata": {},
   "outputs": [
    {
     "data": {
      "text/plain": [
       "<tf.Tensor 'Mean_1:0' shape=() dtype=float32>"
      ]
     },
     "execution_count": 160,
     "metadata": {},
     "output_type": "execute_result"
    }
   ],
   "source": [
    "accuracy"
   ]
  },
  {
   "cell_type": "code",
   "execution_count": 161,
   "metadata": {},
   "outputs": [
    {
     "data": {
      "text/plain": [
       "0.5"
      ]
     },
     "execution_count": 161,
     "metadata": {},
     "output_type": "execute_result"
    }
   ],
   "source": [
    "accuracy=accuracy.eval(session=sess, feed_dict={\n",
    "    x:X_test, t:Y_test\n",
    "})\n",
    "accuracy"
   ]
  },
  {
   "cell_type": "code",
   "execution_count": 162,
   "metadata": {},
   "outputs": [
    {
     "data": {
      "text/plain": [
       "(60, 1)"
      ]
     },
     "execution_count": 162,
     "metadata": {},
     "output_type": "execute_result"
    }
   ],
   "source": [
    "tt=my_prediction.eval(session=sess, feed_dict={\n",
    "    x:X_test, t: Y_test\n",
    "})\n",
    "tt.shape"
   ]
  },
  {
   "cell_type": "code",
   "execution_count": 163,
   "metadata": {},
   "outputs": [
    {
     "data": {
      "text/plain": [
       "array([1., 1., 1., 1., 1., 1., 1., 0., 0., 1., 1., 1., 1., 1., 1., 0., 1.,\n",
       "       1., 1., 1., 1., 1., 1., 1., 1., 1., 1., 1., 1., 1., 1., 0., 1., 1.,\n",
       "       1., 1., 1., 1., 1., 1., 1., 0., 1., 1., 1., 0., 1., 1., 1., 1., 1.,\n",
       "       1., 0., 1., 0., 1., 1., 1., 1., 0.], dtype=float32)"
      ]
     },
     "execution_count": 163,
     "metadata": {},
     "output_type": "execute_result"
    }
   ],
   "source": [
    "tt.reshape((60))"
   ]
  },
  {
   "cell_type": "code",
   "execution_count": 164,
   "metadata": {},
   "outputs": [
    {
     "data": {
      "image/png": "[encoded data removed]",
      "text/plain": [
       "<Figure size 432x288 with 1 Axes>"
      ]
     },
     "execution_count": 164,
     "metadata": {},
     "output_type": "execute_result"
    },
    {
     "data": {
      "image/png": "[encoded data removed]",
      "text/plain": [
       "<Figure size 432x288 with 1 Axes>"
      ]
     },
     "metadata": {
      "needs_background": "light"
     },
     "output_type": "display_data"
    }
   ],
   "source": [
    "fig = plt.figure()\n",
    "plt.scatter(X[:,0], X[:,1],alpha=0.1, cmap=\"autumn\",c=y)\n",
    "plt.scatter(X_test[:,0],X_test[:,1],alpha=1,cmap=\"autumn\",c=tt.reshape((60)))\n",
    "fig"
   ]
  },
  {
   "cell_type": "markdown",
   "metadata": {},
   "source": [
    "## Simple logistic regression with tensorflow"
   ]
  },
  {
   "cell_type": "code",
   "execution_count": 165,
   "metadata": {},
   "outputs": [],
   "source": [
    "w = tf.Variable(tf.zeros([2,1]))         # [2*1]\n",
    "b = tf.Variable(tf.zeros([1]))      \n",
    "x= tf.placeholder(tf.float32, shape=[None, 2])      # [?*2]\n",
    "t= tf.placeholder(tf.float32, shape=[None, 1])      # [?*1]\n",
    "y= tf.sigmoid( tf.matmul(x, w) + b )                # y=xw+b, [?*1]\n",
    "\n",
    "cross_entropy = - tf.reduce_sum( t*tf.log(y) + (1-t)*tf.log(1-y) )     #### sigmoid #####\n",
    "train_step = tf.train.GradientDescentOptimizer(0.1).minimize(cross_entropy)     # 학습률 0.1, cross entropy 최소화하는 방향\n",
    "correct_prediction = tf.equal(tf.to_float(tf.greater(y, 0.5)), t)"
   ]
  },
  {
   "cell_type": "code",
   "execution_count": 169,
   "metadata": {},
   "outputs": [],
   "source": [
    "X = np.array( [[0,0], [0,1], [1,0], [1,1]])\n",
    "Y = np.array([[0], [1], [1], [1]])\n",
    "\n",
    "init=tf.global_variables_initializer()        # initializing\n",
    "sess = tf.Session()\n",
    "sess.run(init)\n",
    "\n",
    "# 학습루틴\n",
    "for epoch in range(200):\n",
    "    sess.run(train_step, feed_dict={\n",
    "        x: X,              # [?*2]인 x값을 np.array인 X에 넣는다. 학습모델은 train_step \n",
    "        t: Y\n",
    "    })"
   ]
  },
  {
   "cell_type": "code",
   "execution_count": 171,
   "metadata": {},
   "outputs": [
    {
     "data": {
      "text/plain": [
       "array([[ True],\n",
       "       [ True],\n",
       "       [ True],\n",
       "       [ True]])"
      ]
     },
     "execution_count": 171,
     "metadata": {},
     "output_type": "execute_result"
    }
   ],
   "source": [
    "correct_prediction.eval(session = sess, feed_dict={\n",
    "    x: X, \n",
    "    t: Y\n",
    "})"
   ]
  },
  {
   "cell_type": "code",
   "execution_count": 172,
   "metadata": {},
   "outputs": [
    {
     "data": {
      "text/plain": [
       "array([[3.6118844],\n",
       "       [3.6118844]], dtype=float32)"
      ]
     },
     "execution_count": 172,
     "metadata": {},
     "output_type": "execute_result"
    }
   ],
   "source": [
    "sess.run(w)"
   ]
  },
  {
   "cell_type": "code",
   "execution_count": 176,
   "metadata": {},
   "outputs": [
    {
     "data": {
      "text/plain": [
       "array([[[0., 0., 0.],\n",
       "        [0., 0., 0.]],\n",
       "\n",
       "       [[0., 0., 0.],\n",
       "        [0., 0., 0.]],\n",
       "\n",
       "       [[0., 0., 0.],\n",
       "        [0., 0., 0.]],\n",
       "\n",
       "       [[0., 0., 0.],\n",
       "        [0., 0., 0.]],\n",
       "\n",
       "       [[0., 0., 0.],\n",
       "        [0., 0., 0.]],\n",
       "\n",
       "       [[0., 0., 0.],\n",
       "        [0., 0., 0.]],\n",
       "\n",
       "       [[0., 0., 0.],\n",
       "        [0., 0., 0.]],\n",
       "\n",
       "       [[0., 0., 0.],\n",
       "        [0., 0., 0.]],\n",
       "\n",
       "       [[0., 0., 0.],\n",
       "        [0., 0., 0.]],\n",
       "\n",
       "       [[0., 0., 0.],\n",
       "        [0., 0., 0.]]])"
      ]
     },
     "execution_count": 176,
     "metadata": {},
     "output_type": "execute_result"
    }
   ],
   "source": [
    "image = np.zeros((10, 2, 3))      # [2*3] 의 행렬을 10개\n",
    "image"
   ]
  },
  {
   "cell_type": "code",
   "execution_count": 183,
   "metadata": {},
   "outputs": [
    {
     "name": "stdout",
     "output_type": "stream",
     "text": [
      "Successfully downloaded train-images-idx3-ubyte.gz 9912422 bytes.\n",
      "Extracting ./samples/MNIST_data/train-images-idx3-ubyte.gz\n",
      "Successfully downloaded train-labels-idx1-ubyte.gz 28881 bytes.\n",
      "Extracting ./samples/MNIST_data/train-labels-idx1-ubyte.gz\n",
      "Successfully downloaded t10k-images-idx3-ubyte.gz 1648877 bytes.\n",
      "Extracting ./samples/MNIST_data/t10k-images-idx3-ubyte.gz\n",
      "Successfully downloaded t10k-labels-idx1-ubyte.gz 4542 bytes.\n",
      "Extracting ./samples/MNIST_data/t10k-labels-idx1-ubyte.gz\n"
     ]
    }
   ],
   "source": [
    "# 각 이미지는 28*28 = 784 픽셀\n",
    "# tf.placeholder : 연산을 실행할 때 값을 입력할 자리를 만든다.\n",
    "\n",
    "from tensorflow.examples.tutorials.mnist import input_data\n",
    "mnist = input_data.read_data_sets(\"./samples/MNIST_data/\", one_hot=True)\n",
    "\n",
    "\n",
    "x=tf.placeholder(tf.float32, [None, 784])      # [?*784]   : none은 어떠한 배치 크기라도 상관없다는 의미.\n",
    "W=tf.Variable(tf.zeros([784, 10]))             # [784*10] : 784차원의 이미지 벡터를 곱해서 각 클래스에 대한 증거값을 나타내는 10차원 \n",
    "                                               # 벡터를 얻고자 한다.\n",
    "b=tf.Variable(tf.zeros([10]))                  # 10차원 벡터.\n",
    "\n",
    "y_=tf.placeholder(tf.float32, [None, 10])      # [?*10]\n",
    "                                               # 올바른 답을 넣기 위한 new placeholder.\n",
    "\n",
    "#55000*784 data\n",
    "#placeholder 자리에 어떤 값을 넣을 것이다. 한 개마다 784개의 element 가진다\n",
    "#y=Wx+b (W:weight, b: bias)\n",
    "#W(784*784*10), b-> 처음에는 아무값이나 넣음 tf.zeros\n",
    "#tf.Variable -> Cost가 줄어드는 방향으로 알아서 바뀜 by Gradient Dist 함수"
   ]
  },
  {
   "cell_type": "code",
   "execution_count": 184,
   "metadata": {},
   "outputs": [],
   "source": [
    "# softmax #\n",
    "\n",
    "y=tf.nn.softmax(tf.matmul(x,W)+b)\n",
    "#matmul: 행렬곱\n",
    "#tf.nn.softmax: 1~10 값을 0~1 값으로 바꾸겠다\n"
   ]
  },
  {
   "cell_type": "code",
   "execution_count": 185,
   "metadata": {},
   "outputs": [],
   "source": [
    "cross_entropy = tf.reduce_mean(-tf.reduce_sum(y_ * tf.log(y), reduction_indices=[1]))    # y의 두번째 차원의 원소들을 합한다.\n",
    "                # tf.reduce_mean : 배치의 모든 예시에 대한 평균 계산.\n",
    "\n",
    "### y는 우리가 예측한 확률분포, y_는 실제분포(one-hot vector) ################\n",
    "####### softmax : y_ * tf.log(y) 의 형태 ########\n",
    "\n",
    "#Global이 아니라 local minimum에서 멈추는 경우도 있으므로 이상하면 running rate 바꿔야함\n",
    "\n",
    "#minimize(cross_entropy)하는 방향으로 weigt를 업데이트 하라.\n",
    "train_step = tf.train.GradientDescentOptimizer(0.5).minimize(cross_entropy)\n",
    "#running rate=0.5, 값 줄이면 더 세밀한 구간으로 탐색.\n",
    "# 0.5 학습비율로 경사하강법."
   ]
  },
  {
   "cell_type": "code",
   "execution_count": 187,
   "metadata": {},
   "outputs": [],
   "source": [
    "init = tf.global_variables_initializer()\n",
    "\n",
    "# 학습을 실행하기 전에 모든 변수들을 초기화.\n",
    "sess = tf.Session()\n",
    "sess.run(init)\n",
    "#tensorflow 안에서는 모든 것이 session 붙여야 돌아감. print하는 것 마저도"
   ]
  },
  {
   "cell_type": "code",
   "execution_count": 188,
   "metadata": {},
   "outputs": [],
   "source": [
    "for i in range(1000):\n",
    "    batch_xs, batch_ys = mnist.train.next_batch(100) #아직 안 쓴 데이터 중 100개 떼서 사용\n",
    "    sess.run(train_step, feed_dict={x: batch_xs, y_: batch_ys})\n",
    "    #모델 트레이닝 끝. "
   ]
  },
  {
   "cell_type": "code",
   "execution_count": 189,
   "metadata": {},
   "outputs": [
    {
     "name": "stdout",
     "output_type": "stream",
     "text": [
      "0.9183\n"
     ]
    }
   ],
   "source": [
    "###################### 학습 평가하기 ###########################\n",
    "#test set 이용해서 평가. W와 b가 제대로 작동하는지 확인.\n",
    "#y와 y_가 같은가.\n",
    "correct_prediction = tf.equal(tf.argmax(y,1), tf.argmax(y_,1))      \n",
    "# tf.argmax(y,1) : 우리의 모델 안에서 증거값이 가장 큰 라벨.\n",
    "#값을 0~1로 바꿀거니까, argmax-> 가장 큰 값을 1로 바꾸어라\n",
    "\n",
    "accuracy = tf.reduce_mean(tf.cast(correct_prediction, tf.float32))\n",
    "# 맞으면 1, 틀리면 0이므로 1을 모두 더해서 개수로 나누면 예측률이 된다.\n",
    "\n",
    "print(sess.run(accuracy, feed_dict={x: mnist.test.images, y_: mnist.test.labels}))\n",
    "#mnist.test.images 10,000개의 데이터를 넣고 실제 label 값과 같은지 체크\n"
   ]
  },
  {
   "cell_type": "code",
   "execution_count": null,
   "metadata": {},
   "outputs": [],
   "source": []
  }
 ],
 "metadata": {
  "kernelspec": {
   "display_name": "Python 3",
   "language": "python",
   "name": "python3"
  },
  "language_info": {
   "codemirror_mode": {
    "name": "ipython",
    "version": 3
   },
   "file_extension": ".py",
   "mimetype": "text/x-python",
   "name": "python",
   "nbconvert_exporter": "python",
   "pygments_lexer": "ipython3",
   "version": "3.7.0"
  }
 },
 "nbformat": 4,
 "nbformat_minor": 2
}
