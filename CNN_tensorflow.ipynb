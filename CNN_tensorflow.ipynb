{
 "cells": [
  {
   "cell_type": "code",
   "execution_count": 1,
   "metadata": {},
   "outputs": [
    {
     "name": "stdout",
     "output_type": "stream",
     "text": [
      "Extracting MNIST_data/train-images-idx3-ubyte.gz\n",
      "Extracting MNIST_data/train-labels-idx1-ubyte.gz\n",
      "Extracting MNIST_data/t10k-images-idx3-ubyte.gz\n",
      "Extracting MNIST_data/t10k-labels-idx1-ubyte.gz\n"
     ]
    }
   ],
   "source": [
    "import tensorflow as tf\n",
    "import matplotlib.pyplot as plt\n",
    "import numpy as np\n",
    "from sklearn.utils import shuffle\n",
    "\n",
    "from tensorflow.examples.tutorials.mnist import input_data \n",
    "mnist = input_data.read_data_sets(\"MNIST_data/\",one_hot=True)"
   ]
  },
  {
   "cell_type": "code",
   "execution_count": 27,
   "metadata": {},
   "outputs": [],
   "source": [
    "train_xdata = np.array([np.reshape(x, (28*28)) for x in mnist.train.images])        #image files(channel = 1)\n",
    "test_xdata = np.array([np.reshape(x, (28*28)) for x in mnist.test.images])\n",
    "train_labels = mnist.train.labels\n",
    "test_labels = mnist.test.labels\n",
    "\n",
    "x = tf.placeholder(tf.float32, [None,784])                # 입력 X, 28*28크기의 이미지이고 채널은 1개\n",
    "y = tf.placeholder(tf.float32, [None,10])\n",
    "keep_prob = tf.placeholder(tf.float32)          #drop-out 되지 않을 확률 값을 넣기 위한 placeholder\n",
    "\n",
    "x_data = tf.reshape(x, [-1,28,28,1])           # x 를 28*28*1 크기로 차원을 변경,  2d -> 3d"
   ]
  },
  {
   "cell_type": "code",
   "execution_count": 28,
   "metadata": {},
   "outputs": [],
   "source": [
    "#바이어스를 0.1로 초기화하는 함수.\n",
    "def bias(shape):\n",
    "    initial = tf.constant(0.1, shape=shape)\n",
    "    return tf.Variable(initial)\n",
    "\n",
    "#표준편차 0.1을 weight로 가지는 난수로 초기화하는 함수.\n",
    "def weight(shape):\n",
    "    initial = tf.truncated_normal(shape, stddev=0.1)\n",
    "    return tf.Variable(initial)\n",
    "\n",
    "\n",
    "#stride=1,  padding=0으로 하는 convolution layer를 만드는 함수\n",
    "def conv2d(x, W):\n",
    "    return tf.nn.conv2d(x, W, strides=[1, 1, 1, 1], padding='SAME')\n",
    "\n",
    "# 2x2 max pooling layer\n",
    "def max_pool(x):\n",
    "    return tf.nn.max_pool(x, ksize=[1, 2, 2, 1], strides=[1, 2, 2, 1], padding='SAME')"
   ]
  },
  {
   "cell_type": "markdown",
   "metadata": {},
   "source": [
    "# 1st convolution layer "
   ]
  },
  {
   "cell_type": "code",
   "execution_count": 29,
   "metadata": {},
   "outputs": [],
   "source": [
    "#bias, weight\n",
    "W_conv1 = weight([5, 5, 1, 32])        # color channel = 1, filter=32\n",
    "b_conv1 = bias([32])\n",
    "\n",
    "# convolution layer + max pooling layer\n",
    "layer_conv1 = tf.nn.relu(conv2d(x_data, W_conv1) + b_conv1)\n",
    "layer_pool1 = max_pool(layer_conv1)          "
   ]
  },
  {
   "cell_type": "code",
   "execution_count": 30,
   "metadata": {},
   "outputs": [
    {
     "name": "stdout",
     "output_type": "stream",
     "text": [
      "(?, 28, 28, 1)\n",
      "(?, 28, 28, 32)\n",
      "(?, 14, 14, 32)\n"
     ]
    }
   ],
   "source": [
    "print(x_data.get_shape())\n",
    "print(layer_conv1.get_shape())\n",
    "print(layer_pool1.get_shape())\n",
    "#SAME padding이므로 conv2d로는 차원이 변경되지 않고 max_pool에서 stride에 따라 차원이 반으로 줄어든다."
   ]
  },
  {
   "cell_type": "markdown",
   "metadata": {},
   "source": [
    "# 2nd convolution layer"
   ]
  },
  {
   "cell_type": "code",
   "execution_count": 31,
   "metadata": {},
   "outputs": [],
   "source": [
    "#bias, weight\n",
    "W_conv2 = weight([5, 5, 32, 64])           #color channel = 32 (input), filter = 64\n",
    "b_conv2 = bias([64])\n",
    "\n",
    "# convolution layer + max pooling layer\n",
    "layer_conv2 = tf.nn.relu(conv2d(layer_pool1, W_conv2) + b_conv2)\n",
    "layer_pool2 = max_pool(layer_conv2)"
   ]
  },
  {
   "cell_type": "code",
   "execution_count": 32,
   "metadata": {},
   "outputs": [
    {
     "name": "stdout",
     "output_type": "stream",
     "text": [
      "(?, 14, 14, 64)\n",
      "(?, 7, 7, 64)\n"
     ]
    }
   ],
   "source": [
    "print(layer_conv2.get_shape())     # 차원은 그대로(padding=same)\n",
    "print(layer_pool2.get_shape())    # max_pool에서 stride에 따라 차원이 반으로 줄어든다."
   ]
  },
  {
   "cell_type": "markdown",
   "metadata": {},
   "source": [
    "# Fully connected layer"
   ]
  },
  {
   "cell_type": "code",
   "execution_count": 33,
   "metadata": {},
   "outputs": [],
   "source": [
    "#마지막 단계인 softmax layer에 연결하기 위해 완전연결 레이어를 추가. \n",
    "W_fc1 = weight_variable([7 * 7 * 64, 1024])\n",
    "b_fc1 = bias_variable([1024])\n",
    "\n",
    "#바로 전 단계 conv2d layer 결과를 다시 1차원 tensor로 변환하여 relu 활성화 함수에 전달.\n",
    "layer_pool2_flat = tf.reshape(layer_pool2, [-1, 7*7*64])    \n",
    "layer_fc1 = tf.nn.relu(tf.matmul(layer_pool2_flat, W_fc1) + b_fc1)"
   ]
  },
  {
   "cell_type": "code",
   "execution_count": 34,
   "metadata": {},
   "outputs": [],
   "source": [
    "#drop out layer\n",
    "layer_fc1_drop = tf.nn.dropout(layer_fc1, keep_prob)    \n",
    "\n",
    "#마지막 단계인 softmax layer\n",
    "W_fc2 = weight([1024, 10])\n",
    "b_fc2 = bias([10])\n",
    "\n",
    "y_data=tf.nn.softmax(tf.matmul(layer_fc1_drop, W_fc2) + b_fc2)"
   ]
  },
  {
   "cell_type": "code",
   "execution_count": 35,
   "metadata": {},
   "outputs": [],
   "source": [
    "# cross entropy\n",
    "cross_entropy = tf.reduce_mean(-tf.reduce_sum(y*tf.log(y_data),reduction_indices=[1]))\n",
    "train_step = tf.train.AdamOptimizer(0.001).minimize(cross_entropy)\n",
    "correct_prediction = tf.equal(tf.argmax(y_data,1), tf.argmax(y,1))\n",
    "accuracy = tf.reduce_mean(tf.cast(correct_prediction, \"float\"))"
   ]
  },
  {
   "cell_type": "code",
   "execution_count": 37,
   "metadata": {},
   "outputs": [
    {
     "name": "stdout",
     "output_type": "stream",
     "text": [
      "accuracy 0.9867\n"
     ]
    }
   ],
   "source": [
    "# initializing\n",
    "sess = tf.Session()\n",
    "init = tf.global_variables_initializer()\n",
    "sess.run(init)\n",
    "\n",
    "train_epoch=1000\n",
    "batch_size=100\n",
    "for i in range(train_epoch):\n",
    "    batch = mnist.train.next_batch(batch_size)\n",
    "    if i % 100 == 0:\n",
    "        train_accuracy = sess.run(accuracy, feed_dict={\n",
    "                x:batch[0], y: batch[1], keep_prob: 1.0})\n",
    "    sess.run(train_step,feed_dict={x: batch[0], y: batch[1], keep_prob: 0.5})\n",
    "print(\"accuracy %g\"% sess.run(\n",
    "        accuracy, feed_dict={x: mnist.test.images, y: mnist.test.labels, keep_prob: 1.0}))"
   ]
  },
  {
   "cell_type": "code",
   "execution_count": null,
   "metadata": {},
   "outputs": [],
   "source": []
  },
  {
   "cell_type": "code",
   "execution_count": null,
   "metadata": {},
   "outputs": [],
   "source": []
  }
 ],
 "metadata": {
  "kernelspec": {
   "display_name": "Python 3",
   "language": "python",
   "name": "python3"
  },
  "language_info": {
   "codemirror_mode": {
    "name": "ipython",
    "version": 3
   },
   "file_extension": ".py",
   "mimetype": "text/x-python",
   "name": "python",
   "nbconvert_exporter": "python",
   "pygments_lexer": "ipython3",
   "version": "3.5.6"
  }
 },
 "nbformat": 4,
 "nbformat_minor": 2
}
